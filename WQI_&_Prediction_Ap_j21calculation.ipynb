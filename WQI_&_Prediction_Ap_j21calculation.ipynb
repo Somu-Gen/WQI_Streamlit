{
  "nbformat": 4,
  "nbformat_minor": 0,
  "metadata": {
    "colab": {
      "name": "WQI & Prediction Ap_j21calculation.ipynb",
      "provenance": [],
      "collapsed_sections": [],
      "include_colab_link": true
    },
    "kernelspec": {
      "name": "python3",
      "display_name": "Python 3"
    },
    "language_info": {
      "name": "python"
    }
  },
  "cells": [
    {
      "cell_type": "markdown",
      "metadata": {
        "id": "view-in-github",
        "colab_type": "text"
      },
      "source": [
        "<a href=\"https://colab.research.google.com/github/Somu-Gen/WQI_Streamlit/blob/main/WQI_%26_Prediction_Ap_j21calculation.ipynb\" target=\"_parent\"><img src=\"https://colab.research.google.com/assets/colab-badge.svg\" alt=\"Open In Colab\"/></a>"
      ]
    },
    {
      "cell_type": "code",
      "execution_count": null,
      "metadata": {
        "id": "nh2YKV1ew0iR"
      },
      "outputs": [],
      "source": [
        "import pandas as pd\n",
        "import statistics\n",
        "import numpy as np\n",
        "import matplotlib.pyplot as plt\n",
        "import seaborn as sns\n",
        "from sklearn.model_selection import train_test_split\n",
        "from sklearn import svm\n",
        "from sklearn.metrics import accuracy_score\n",
        "\n",
        "import plotly.express as px"
      ]
    },
    {
      "cell_type": "code",
      "source": [
        "df=pd.read_csv(\"/content/Jan_wqi_2018.csv\",index_col=0)"
      ],
      "metadata": {
        "id": "QY9GiK7fxZhM"
      },
      "execution_count": null,
      "outputs": []
    },
    {
      "cell_type": "code",
      "source": [
        "df.columns"
      ],
      "metadata": {
        "colab": {
          "base_uri": "https://localhost:8080/"
        },
        "id": "ocsXch6I4P0K",
        "outputId": "5f67774d-e4ef-4719-a301-fbc0d0a0cf17"
      },
      "execution_count": null,
      "outputs": [
        {
          "output_type": "execute_result",
          "data": {
            "text/plain": [
              "Index(['S.No.', 'Station_name', 'District/RO', 'Monitoring_date', 'pH', 'TA',\n",
              "       'Cl', 'Ca', 'Mg', 'Sulphate', 'Na', 'TDS', 'K', 'F', 'wqi', 'quality'],\n",
              "      dtype='object')"
            ]
          },
          "metadata": {},
          "execution_count": 14
        }
      ]
    },
    {
      "cell_type": "code",
      "source": [
        "df=df.drop([\"S.No.\"],axis=1)\n",
        "df.head()"
      ],
      "metadata": {
        "id": "L5AoLyfdxj7R",
        "colab": {
          "base_uri": "https://localhost:8080/",
          "height": 337
        },
        "outputId": "31715c91-3e08-4436-de9c-d13c7c4a2e5c"
      },
      "execution_count": null,
      "outputs": [
        {
          "output_type": "execute_result",
          "data": {
            "text/plain": [
              "                                     Station_name            District/RO  \\\n",
              "0  Upstream of river Krishna at\\nPrakasam barrage  Krishna /\\nVijayawada   \n",
              "1           Upstream of Pennar river at\\nSomasila     Nellore /\\nNellore   \n",
              "2         Puligadda aqueduct near\\nAvanigadda (V)  Krishna /\\nVijayawada   \n",
              "3                     River Krishna at Amaravathi  Krishna /\\nVijayawada   \n",
              "4         Downstream of Krishna river at\\nVedadri  Krishna /\\nVijayawada   \n",
              "\n",
              "  Monitoring_date    pH     TA      Cl      Ca     Mg  Sulphate      Na  \\\n",
              "0      05.01.2018  7.45  120.0   210.0    36.0   12.0      35.0   120.0   \n",
              "1      08.01.2018  7.68  150.0   210.0    40.0   19.0      40.0   110.0   \n",
              "2      23.01.2018  7.57  260.0  8400.0  1520.0  768.0    1650.0  3600.0   \n",
              "3      08.01.2018  7.71  210.0   140.0    56.0   19.0      55.0    80.0   \n",
              "4      08.01.2018  7.62  160.0   260.0    48.0   21.0      65.0   140.0   \n",
              "\n",
              "       TDS      K     F         wqi       quality  \n",
              "0    520.0    4.0  0.68   61.090928          Poor  \n",
              "1    580.0    3.0  0.78   70.293242          Poor  \n",
              "2  20400.0  400.0  1.15  389.759418  Not suitable  \n",
              "3    520.0    3.0  0.68   62.705617          Poor  \n",
              "4    710.0    3.0  0.71   64.731343          Poor  "
            ],
            "text/html": [
              "\n",
              "  <div id=\"df-601a61ea-91ad-466d-aafb-d76ec90edc9b\">\n",
              "    <div class=\"colab-df-container\">\n",
              "      <div>\n",
              "<style scoped>\n",
              "    .dataframe tbody tr th:only-of-type {\n",
              "        vertical-align: middle;\n",
              "    }\n",
              "\n",
              "    .dataframe tbody tr th {\n",
              "        vertical-align: top;\n",
              "    }\n",
              "\n",
              "    .dataframe thead th {\n",
              "        text-align: right;\n",
              "    }\n",
              "</style>\n",
              "<table border=\"1\" class=\"dataframe\">\n",
              "  <thead>\n",
              "    <tr style=\"text-align: right;\">\n",
              "      <th></th>\n",
              "      <th>Station_name</th>\n",
              "      <th>District/RO</th>\n",
              "      <th>Monitoring_date</th>\n",
              "      <th>pH</th>\n",
              "      <th>TA</th>\n",
              "      <th>Cl</th>\n",
              "      <th>Ca</th>\n",
              "      <th>Mg</th>\n",
              "      <th>Sulphate</th>\n",
              "      <th>Na</th>\n",
              "      <th>TDS</th>\n",
              "      <th>K</th>\n",
              "      <th>F</th>\n",
              "      <th>wqi</th>\n",
              "      <th>quality</th>\n",
              "    </tr>\n",
              "  </thead>\n",
              "  <tbody>\n",
              "    <tr>\n",
              "      <th>0</th>\n",
              "      <td>Upstream of river Krishna at\\nPrakasam barrage</td>\n",
              "      <td>Krishna /\\nVijayawada</td>\n",
              "      <td>05.01.2018</td>\n",
              "      <td>7.45</td>\n",
              "      <td>120.0</td>\n",
              "      <td>210.0</td>\n",
              "      <td>36.0</td>\n",
              "      <td>12.0</td>\n",
              "      <td>35.0</td>\n",
              "      <td>120.0</td>\n",
              "      <td>520.0</td>\n",
              "      <td>4.0</td>\n",
              "      <td>0.68</td>\n",
              "      <td>61.090928</td>\n",
              "      <td>Poor</td>\n",
              "    </tr>\n",
              "    <tr>\n",
              "      <th>1</th>\n",
              "      <td>Upstream of Pennar river at\\nSomasila</td>\n",
              "      <td>Nellore /\\nNellore</td>\n",
              "      <td>08.01.2018</td>\n",
              "      <td>7.68</td>\n",
              "      <td>150.0</td>\n",
              "      <td>210.0</td>\n",
              "      <td>40.0</td>\n",
              "      <td>19.0</td>\n",
              "      <td>40.0</td>\n",
              "      <td>110.0</td>\n",
              "      <td>580.0</td>\n",
              "      <td>3.0</td>\n",
              "      <td>0.78</td>\n",
              "      <td>70.293242</td>\n",
              "      <td>Poor</td>\n",
              "    </tr>\n",
              "    <tr>\n",
              "      <th>2</th>\n",
              "      <td>Puligadda aqueduct near\\nAvanigadda (V)</td>\n",
              "      <td>Krishna /\\nVijayawada</td>\n",
              "      <td>23.01.2018</td>\n",
              "      <td>7.57</td>\n",
              "      <td>260.0</td>\n",
              "      <td>8400.0</td>\n",
              "      <td>1520.0</td>\n",
              "      <td>768.0</td>\n",
              "      <td>1650.0</td>\n",
              "      <td>3600.0</td>\n",
              "      <td>20400.0</td>\n",
              "      <td>400.0</td>\n",
              "      <td>1.15</td>\n",
              "      <td>389.759418</td>\n",
              "      <td>Not suitable</td>\n",
              "    </tr>\n",
              "    <tr>\n",
              "      <th>3</th>\n",
              "      <td>River Krishna at Amaravathi</td>\n",
              "      <td>Krishna /\\nVijayawada</td>\n",
              "      <td>08.01.2018</td>\n",
              "      <td>7.71</td>\n",
              "      <td>210.0</td>\n",
              "      <td>140.0</td>\n",
              "      <td>56.0</td>\n",
              "      <td>19.0</td>\n",
              "      <td>55.0</td>\n",
              "      <td>80.0</td>\n",
              "      <td>520.0</td>\n",
              "      <td>3.0</td>\n",
              "      <td>0.68</td>\n",
              "      <td>62.705617</td>\n",
              "      <td>Poor</td>\n",
              "    </tr>\n",
              "    <tr>\n",
              "      <th>4</th>\n",
              "      <td>Downstream of Krishna river at\\nVedadri</td>\n",
              "      <td>Krishna /\\nVijayawada</td>\n",
              "      <td>08.01.2018</td>\n",
              "      <td>7.62</td>\n",
              "      <td>160.0</td>\n",
              "      <td>260.0</td>\n",
              "      <td>48.0</td>\n",
              "      <td>21.0</td>\n",
              "      <td>65.0</td>\n",
              "      <td>140.0</td>\n",
              "      <td>710.0</td>\n",
              "      <td>3.0</td>\n",
              "      <td>0.71</td>\n",
              "      <td>64.731343</td>\n",
              "      <td>Poor</td>\n",
              "    </tr>\n",
              "  </tbody>\n",
              "</table>\n",
              "</div>\n",
              "      <button class=\"colab-df-convert\" onclick=\"convertToInteractive('df-601a61ea-91ad-466d-aafb-d76ec90edc9b')\"\n",
              "              title=\"Convert this dataframe to an interactive table.\"\n",
              "              style=\"display:none;\">\n",
              "        \n",
              "  <svg xmlns=\"http://www.w3.org/2000/svg\" height=\"24px\"viewBox=\"0 0 24 24\"\n",
              "       width=\"24px\">\n",
              "    <path d=\"M0 0h24v24H0V0z\" fill=\"none\"/>\n",
              "    <path d=\"M18.56 5.44l.94 2.06.94-2.06 2.06-.94-2.06-.94-.94-2.06-.94 2.06-2.06.94zm-11 1L8.5 8.5l.94-2.06 2.06-.94-2.06-.94L8.5 2.5l-.94 2.06-2.06.94zm10 10l.94 2.06.94-2.06 2.06-.94-2.06-.94-.94-2.06-.94 2.06-2.06.94z\"/><path d=\"M17.41 7.96l-1.37-1.37c-.4-.4-.92-.59-1.43-.59-.52 0-1.04.2-1.43.59L10.3 9.45l-7.72 7.72c-.78.78-.78 2.05 0 2.83L4 21.41c.39.39.9.59 1.41.59.51 0 1.02-.2 1.41-.59l7.78-7.78 2.81-2.81c.8-.78.8-2.07 0-2.86zM5.41 20L4 18.59l7.72-7.72 1.47 1.35L5.41 20z\"/>\n",
              "  </svg>\n",
              "      </button>\n",
              "      \n",
              "  <style>\n",
              "    .colab-df-container {\n",
              "      display:flex;\n",
              "      flex-wrap:wrap;\n",
              "      gap: 12px;\n",
              "    }\n",
              "\n",
              "    .colab-df-convert {\n",
              "      background-color: #E8F0FE;\n",
              "      border: none;\n",
              "      border-radius: 50%;\n",
              "      cursor: pointer;\n",
              "      display: none;\n",
              "      fill: #1967D2;\n",
              "      height: 32px;\n",
              "      padding: 0 0 0 0;\n",
              "      width: 32px;\n",
              "    }\n",
              "\n",
              "    .colab-df-convert:hover {\n",
              "      background-color: #E2EBFA;\n",
              "      box-shadow: 0px 1px 2px rgba(60, 64, 67, 0.3), 0px 1px 3px 1px rgba(60, 64, 67, 0.15);\n",
              "      fill: #174EA6;\n",
              "    }\n",
              "\n",
              "    [theme=dark] .colab-df-convert {\n",
              "      background-color: #3B4455;\n",
              "      fill: #D2E3FC;\n",
              "    }\n",
              "\n",
              "    [theme=dark] .colab-df-convert:hover {\n",
              "      background-color: #434B5C;\n",
              "      box-shadow: 0px 1px 3px 1px rgba(0, 0, 0, 0.15);\n",
              "      filter: drop-shadow(0px 1px 2px rgba(0, 0, 0, 0.3));\n",
              "      fill: #FFFFFF;\n",
              "    }\n",
              "  </style>\n",
              "\n",
              "      <script>\n",
              "        const buttonEl =\n",
              "          document.querySelector('#df-601a61ea-91ad-466d-aafb-d76ec90edc9b button.colab-df-convert');\n",
              "        buttonEl.style.display =\n",
              "          google.colab.kernel.accessAllowed ? 'block' : 'none';\n",
              "\n",
              "        async function convertToInteractive(key) {\n",
              "          const element = document.querySelector('#df-601a61ea-91ad-466d-aafb-d76ec90edc9b');\n",
              "          const dataTable =\n",
              "            await google.colab.kernel.invokeFunction('convertToInteractive',\n",
              "                                                     [key], {});\n",
              "          if (!dataTable) return;\n",
              "\n",
              "          const docLinkHtml = 'Like what you see? Visit the ' +\n",
              "            '<a target=\"_blank\" href=https://colab.research.google.com/notebooks/data_table.ipynb>data table notebook</a>'\n",
              "            + ' to learn more about interactive tables.';\n",
              "          element.innerHTML = '';\n",
              "          dataTable['output_type'] = 'display_data';\n",
              "          await google.colab.output.renderOutput(dataTable, element);\n",
              "          const docLink = document.createElement('div');\n",
              "          docLink.innerHTML = docLinkHtml;\n",
              "          element.appendChild(docLink);\n",
              "        }\n",
              "      </script>\n",
              "    </div>\n",
              "  </div>\n",
              "  "
            ]
          },
          "metadata": {},
          "execution_count": 20
        }
      ]
    },
    {
      "cell_type": "markdown",
      "source": [
        "![image.png](data:image/png;base64,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)"
      ],
      "metadata": {
        "id": "zS89Auopz5iT"
      }
    },
    {
      "cell_type": "code",
      "source": [
        "df.shape"
      ],
      "metadata": {
        "id": "HO3iWuMgxlaA",
        "colab": {
          "base_uri": "https://localhost:8080/"
        },
        "outputId": "c42b65c3-86d0-42a6-c9ad-13c927cedfbf"
      },
      "execution_count": null,
      "outputs": [
        {
          "output_type": "execute_result",
          "data": {
            "text/plain": [
              "(35, 16)"
            ]
          },
          "metadata": {},
          "execution_count": 7
        }
      ]
    },
    {
      "cell_type": "markdown",
      "source": [
        "![image.png](data:image/png;base64,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)"
      ],
      "metadata": {
        "id": "Zv7kJxqM18TG"
      }
    },
    {
      "cell_type": "code",
      "source": [
        "df.describe()"
      ],
      "metadata": {
        "id": "ZI8Qvl4qxpMW",
        "colab": {
          "base_uri": "https://localhost:8080/",
          "height": 300
        },
        "outputId": "527a1407-a4d4-450a-f5fb-ee3ac877a939"
      },
      "execution_count": null,
      "outputs": [
        {
          "output_type": "execute_result",
          "data": {
            "text/plain": [
              "           S.No.         pH          TA           Cl           Ca          Mg  \\\n",
              "count  35.000000  35.000000   35.000000    35.000000    35.000000   35.000000   \n",
              "mean   18.000000   7.591818  239.612903   500.580645   202.838710  111.774194   \n",
              "std    10.246951   0.277515  139.000990  1421.166149   262.065898  132.056964   \n",
              "min     1.000000   6.920000  110.000000    24.000000    36.000000   12.000000   \n",
              "25%     9.500000   7.425000  140.000000    71.000000    94.000000   45.500000   \n",
              "50%    18.000000   7.591818  210.000000   181.000000   120.000000   72.000000   \n",
              "75%    26.500000   7.735000  270.000000   342.000000   202.838710  132.000000   \n",
              "max    35.000000   8.100000  820.000000  8400.000000  1520.000000  768.000000   \n",
              "\n",
              "          Sulphate           Na           TDS           K          F  \\\n",
              "count    35.000000    35.000000     35.000000   35.000000  35.000000   \n",
              "mean    148.129032   261.516129   1439.757576   21.193548   0.641613   \n",
              "std     291.827481   617.726375   3435.234884   67.028712   0.224278   \n",
              "min       8.000000    12.000000    216.000000    2.000000   0.230000   \n",
              "25%      35.000000    53.500000    333.000000    2.500000   0.490000   \n",
              "50%      65.000000   110.000000    690.000000    4.000000   0.641613   \n",
              "75%     142.500000   248.758065    975.500000   19.000000   0.760000   \n",
              "max    1650.000000  3600.000000  20400.000000  400.000000   1.200000   \n",
              "\n",
              "              wqi  \n",
              "count   35.000000  \n",
              "mean    75.311616  \n",
              "std     58.664145  \n",
              "min     25.689647  \n",
              "25%     51.219168  \n",
              "50%     68.854302  \n",
              "75%     76.252580  \n",
              "max    389.759418  "
            ],
            "text/html": [
              "\n",
              "  <div id=\"df-789ae22d-9ce5-4430-998c-c65466d21038\">\n",
              "    <div class=\"colab-df-container\">\n",
              "      <div>\n",
              "<style scoped>\n",
              "    .dataframe tbody tr th:only-of-type {\n",
              "        vertical-align: middle;\n",
              "    }\n",
              "\n",
              "    .dataframe tbody tr th {\n",
              "        vertical-align: top;\n",
              "    }\n",
              "\n",
              "    .dataframe thead th {\n",
              "        text-align: right;\n",
              "    }\n",
              "</style>\n",
              "<table border=\"1\" class=\"dataframe\">\n",
              "  <thead>\n",
              "    <tr style=\"text-align: right;\">\n",
              "      <th></th>\n",
              "      <th>S.No.</th>\n",
              "      <th>pH</th>\n",
              "      <th>TA</th>\n",
              "      <th>Cl</th>\n",
              "      <th>Ca</th>\n",
              "      <th>Mg</th>\n",
              "      <th>Sulphate</th>\n",
              "      <th>Na</th>\n",
              "      <th>TDS</th>\n",
              "      <th>K</th>\n",
              "      <th>F</th>\n",
              "      <th>wqi</th>\n",
              "    </tr>\n",
              "  </thead>\n",
              "  <tbody>\n",
              "    <tr>\n",
              "      <th>count</th>\n",
              "      <td>35.000000</td>\n",
              "      <td>35.000000</td>\n",
              "      <td>35.000000</td>\n",
              "      <td>35.000000</td>\n",
              "      <td>35.000000</td>\n",
              "      <td>35.000000</td>\n",
              "      <td>35.000000</td>\n",
              "      <td>35.000000</td>\n",
              "      <td>35.000000</td>\n",
              "      <td>35.000000</td>\n",
              "      <td>35.000000</td>\n",
              "      <td>35.000000</td>\n",
              "    </tr>\n",
              "    <tr>\n",
              "      <th>mean</th>\n",
              "      <td>18.000000</td>\n",
              "      <td>7.591818</td>\n",
              "      <td>239.612903</td>\n",
              "      <td>500.580645</td>\n",
              "      <td>202.838710</td>\n",
              "      <td>111.774194</td>\n",
              "      <td>148.129032</td>\n",
              "      <td>261.516129</td>\n",
              "      <td>1439.757576</td>\n",
              "      <td>21.193548</td>\n",
              "      <td>0.641613</td>\n",
              "      <td>75.311616</td>\n",
              "    </tr>\n",
              "    <tr>\n",
              "      <th>std</th>\n",
              "      <td>10.246951</td>\n",
              "      <td>0.277515</td>\n",
              "      <td>139.000990</td>\n",
              "      <td>1421.166149</td>\n",
              "      <td>262.065898</td>\n",
              "      <td>132.056964</td>\n",
              "      <td>291.827481</td>\n",
              "      <td>617.726375</td>\n",
              "      <td>3435.234884</td>\n",
              "      <td>67.028712</td>\n",
              "      <td>0.224278</td>\n",
              "      <td>58.664145</td>\n",
              "    </tr>\n",
              "    <tr>\n",
              "      <th>min</th>\n",
              "      <td>1.000000</td>\n",
              "      <td>6.920000</td>\n",
              "      <td>110.000000</td>\n",
              "      <td>24.000000</td>\n",
              "      <td>36.000000</td>\n",
              "      <td>12.000000</td>\n",
              "      <td>8.000000</td>\n",
              "      <td>12.000000</td>\n",
              "      <td>216.000000</td>\n",
              "      <td>2.000000</td>\n",
              "      <td>0.230000</td>\n",
              "      <td>25.689647</td>\n",
              "    </tr>\n",
              "    <tr>\n",
              "      <th>25%</th>\n",
              "      <td>9.500000</td>\n",
              "      <td>7.425000</td>\n",
              "      <td>140.000000</td>\n",
              "      <td>71.000000</td>\n",
              "      <td>94.000000</td>\n",
              "      <td>45.500000</td>\n",
              "      <td>35.000000</td>\n",
              "      <td>53.500000</td>\n",
              "      <td>333.000000</td>\n",
              "      <td>2.500000</td>\n",
              "      <td>0.490000</td>\n",
              "      <td>51.219168</td>\n",
              "    </tr>\n",
              "    <tr>\n",
              "      <th>50%</th>\n",
              "      <td>18.000000</td>\n",
              "      <td>7.591818</td>\n",
              "      <td>210.000000</td>\n",
              "      <td>181.000000</td>\n",
              "      <td>120.000000</td>\n",
              "      <td>72.000000</td>\n",
              "      <td>65.000000</td>\n",
              "      <td>110.000000</td>\n",
              "      <td>690.000000</td>\n",
              "      <td>4.000000</td>\n",
              "      <td>0.641613</td>\n",
              "      <td>68.854302</td>\n",
              "    </tr>\n",
              "    <tr>\n",
              "      <th>75%</th>\n",
              "      <td>26.500000</td>\n",
              "      <td>7.735000</td>\n",
              "      <td>270.000000</td>\n",
              "      <td>342.000000</td>\n",
              "      <td>202.838710</td>\n",
              "      <td>132.000000</td>\n",
              "      <td>142.500000</td>\n",
              "      <td>248.758065</td>\n",
              "      <td>975.500000</td>\n",
              "      <td>19.000000</td>\n",
              "      <td>0.760000</td>\n",
              "      <td>76.252580</td>\n",
              "    </tr>\n",
              "    <tr>\n",
              "      <th>max</th>\n",
              "      <td>35.000000</td>\n",
              "      <td>8.100000</td>\n",
              "      <td>820.000000</td>\n",
              "      <td>8400.000000</td>\n",
              "      <td>1520.000000</td>\n",
              "      <td>768.000000</td>\n",
              "      <td>1650.000000</td>\n",
              "      <td>3600.000000</td>\n",
              "      <td>20400.000000</td>\n",
              "      <td>400.000000</td>\n",
              "      <td>1.200000</td>\n",
              "      <td>389.759418</td>\n",
              "    </tr>\n",
              "  </tbody>\n",
              "</table>\n",
              "</div>\n",
              "      <button class=\"colab-df-convert\" onclick=\"convertToInteractive('df-789ae22d-9ce5-4430-998c-c65466d21038')\"\n",
              "              title=\"Convert this dataframe to an interactive table.\"\n",
              "              style=\"display:none;\">\n",
              "        \n",
              "  <svg xmlns=\"http://www.w3.org/2000/svg\" height=\"24px\"viewBox=\"0 0 24 24\"\n",
              "       width=\"24px\">\n",
              "    <path d=\"M0 0h24v24H0V0z\" fill=\"none\"/>\n",
              "    <path d=\"M18.56 5.44l.94 2.06.94-2.06 2.06-.94-2.06-.94-.94-2.06-.94 2.06-2.06.94zm-11 1L8.5 8.5l.94-2.06 2.06-.94-2.06-.94L8.5 2.5l-.94 2.06-2.06.94zm10 10l.94 2.06.94-2.06 2.06-.94-2.06-.94-.94-2.06-.94 2.06-2.06.94z\"/><path d=\"M17.41 7.96l-1.37-1.37c-.4-.4-.92-.59-1.43-.59-.52 0-1.04.2-1.43.59L10.3 9.45l-7.72 7.72c-.78.78-.78 2.05 0 2.83L4 21.41c.39.39.9.59 1.41.59.51 0 1.02-.2 1.41-.59l7.78-7.78 2.81-2.81c.8-.78.8-2.07 0-2.86zM5.41 20L4 18.59l7.72-7.72 1.47 1.35L5.41 20z\"/>\n",
              "  </svg>\n",
              "      </button>\n",
              "      \n",
              "  <style>\n",
              "    .colab-df-container {\n",
              "      display:flex;\n",
              "      flex-wrap:wrap;\n",
              "      gap: 12px;\n",
              "    }\n",
              "\n",
              "    .colab-df-convert {\n",
              "      background-color: #E8F0FE;\n",
              "      border: none;\n",
              "      border-radius: 50%;\n",
              "      cursor: pointer;\n",
              "      display: none;\n",
              "      fill: #1967D2;\n",
              "      height: 32px;\n",
              "      padding: 0 0 0 0;\n",
              "      width: 32px;\n",
              "    }\n",
              "\n",
              "    .colab-df-convert:hover {\n",
              "      background-color: #E2EBFA;\n",
              "      box-shadow: 0px 1px 2px rgba(60, 64, 67, 0.3), 0px 1px 3px 1px rgba(60, 64, 67, 0.15);\n",
              "      fill: #174EA6;\n",
              "    }\n",
              "\n",
              "    [theme=dark] .colab-df-convert {\n",
              "      background-color: #3B4455;\n",
              "      fill: #D2E3FC;\n",
              "    }\n",
              "\n",
              "    [theme=dark] .colab-df-convert:hover {\n",
              "      background-color: #434B5C;\n",
              "      box-shadow: 0px 1px 3px 1px rgba(0, 0, 0, 0.15);\n",
              "      filter: drop-shadow(0px 1px 2px rgba(0, 0, 0, 0.3));\n",
              "      fill: #FFFFFF;\n",
              "    }\n",
              "  </style>\n",
              "\n",
              "      <script>\n",
              "        const buttonEl =\n",
              "          document.querySelector('#df-789ae22d-9ce5-4430-998c-c65466d21038 button.colab-df-convert');\n",
              "        buttonEl.style.display =\n",
              "          google.colab.kernel.accessAllowed ? 'block' : 'none';\n",
              "\n",
              "        async function convertToInteractive(key) {\n",
              "          const element = document.querySelector('#df-789ae22d-9ce5-4430-998c-c65466d21038');\n",
              "          const dataTable =\n",
              "            await google.colab.kernel.invokeFunction('convertToInteractive',\n",
              "                                                     [key], {});\n",
              "          if (!dataTable) return;\n",
              "\n",
              "          const docLinkHtml = 'Like what you see? Visit the ' +\n",
              "            '<a target=\"_blank\" href=https://colab.research.google.com/notebooks/data_table.ipynb>data table notebook</a>'\n",
              "            + ' to learn more about interactive tables.';\n",
              "          element.innerHTML = '';\n",
              "          dataTable['output_type'] = 'display_data';\n",
              "          await google.colab.output.renderOutput(dataTable, element);\n",
              "          const docLink = document.createElement('div');\n",
              "          docLink.innerHTML = docLinkHtml;\n",
              "          element.appendChild(docLink);\n",
              "        }\n",
              "      </script>\n",
              "    </div>\n",
              "  </div>\n",
              "  "
            ]
          },
          "metadata": {},
          "execution_count": 8
        }
      ]
    },
    {
      "cell_type": "code",
      "source": [
        "#df.groupby(['Regional Office']).count()['DO'].to_frame()"
      ],
      "metadata": {
        "id": "C7ZIRospx3PQ"
      },
      "execution_count": null,
      "outputs": []
    },
    {
      "cell_type": "code",
      "source": [
        "#df.groupby(['Regional Office']).count()['DO'].plot(kind= 'pie')"
      ],
      "metadata": {
        "id": "O-jd2Da2znow"
      },
      "execution_count": null,
      "outputs": []
    },
    {
      "cell_type": "code",
      "source": [
        "#df.groupby(['Regional Office']).count()['DO'].plot(kind='bar')"
      ],
      "metadata": {
        "id": "9UeF7b4T3QWm"
      },
      "execution_count": null,
      "outputs": []
    },
    {
      "cell_type": "markdown",
      "source": [
        "**I-Sub-index Calculation**"
      ],
      "metadata": {
        "id": "Z2JZyoak_Wbt"
      }
    },
    {
      "cell_type": "markdown",
      "source": [
        "![image.png](data:image/png;base64,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)"
      ],
      "metadata": {
        "id": "l9uv1PRlue9I"
      }
    },
    {
      "cell_type": "code",
      "source": [
        "def wqi(vn,vi,s):\n",
        "  qn=((vn-vi)/(s-vi))*100\n",
        "  return qn\n",
        "  \n",
        "qph=wqi(df.pH,7,8.5)\n",
        "df['qpH']=qph"
      ],
      "metadata": {
        "id": "cvW6Dgfg3lTW"
      },
      "execution_count": null,
      "outputs": []
    },
    {
      "cell_type": "code",
      "source": [
        "df.pH"
      ],
      "metadata": {
        "id": "gGfmSdxT5cbO"
      },
      "execution_count": null,
      "outputs": []
    },
    {
      "cell_type": "code",
      "source": [
        "#df.drop(['Monitoring_date','Water_Temp_(oC)'])"
      ],
      "metadata": {
        "id": "1IpSM-lH-Ygh"
      },
      "execution_count": null,
      "outputs": []
    },
    {
      "cell_type": "markdown",
      "source": [
        "Sn = [ph_8.5, DO_5,Turbidity_5,TA_200,TDS_500,Mg_30,F_1]"
      ],
      "metadata": {
        "id": "Ro0E1VNJtVH1"
      }
    },
    {
      "cell_type": "code",
      "source": [
        "def wqi(vn,vi,s):\n",
        "  qn=((vn-vi)/(s-vi))*100\n",
        "  return qn\n",
        "\n",
        "qph=wqi(df.pH,7,8.5)\n",
        "df['qpH']=qph\n",
        "\n",
        "q_DO=wqi(df.DO,14.6,5)\n",
        "df['q_DO']=q_DO\n",
        "\n",
        "\n",
        "\n",
        "q_Turbidity=wqi(df.Turbidity ,0,5)\n",
        "df['q_Turbidity']=q_Turbidity\n",
        "\n",
        "q_TA=wqi(df.TA,0,200)\n",
        "df['q_TA']=q_TA\n",
        "\n",
        "q_TDS=wqi(df.TDS,0,500)\n",
        "df['q_TDS']=q_TDS\n",
        "\n",
        "q_Mg=wqi(df.Magnesium,0,30)\n",
        "df['q_Mg']=q_Mg\n",
        "\n",
        "q_F=wqi(df.Fluoride,0,1)\n",
        "df['q_F']=q_F\n"
      ],
      "metadata": {
        "id": "mHNccde-_Esg"
      },
      "execution_count": null,
      "outputs": []
    },
    {
      "cell_type": "code",
      "source": [
        "df"
      ],
      "metadata": {
        "id": "WrhzmYAXB3py"
      },
      "execution_count": null,
      "outputs": []
    },
    {
      "cell_type": "code",
      "source": [
        "z = df.iloc[:,16:]\n",
        "z\n"
      ],
      "metadata": {
        "id": "pChAhTW3NMs3"
      },
      "execution_count": null,
      "outputs": []
    },
    {
      "cell_type": "code",
      "source": [
        "c = z.sum(axis=1)\n",
        "c"
      ],
      "metadata": {
        "id": "mHHsRIJyPpCI"
      },
      "execution_count": null,
      "outputs": []
    },
    {
      "cell_type": "code",
      "source": [
        "z['final index']= c\n",
        "z.to_csv(\"WQI_Ap_jan_2021.csv\")"
      ],
      "metadata": {
        "id": "tGlhroY2QCHy"
      },
      "execution_count": null,
      "outputs": []
    },
    {
      "cell_type": "markdown",
      "source": [
        "**2- Weightage Factor(w)**\n",
        "\n",
        "Simple way to calculate is\n",
        "**w = harmonic mean / total no.of samples**\n",
        "\n",
        "wn= k/sn\n",
        "\n",
        "k =1/Σ(1/sn)\n"
      ],
      "metadata": {
        "id": "m_w2oqaaub3D"
      }
    },
    {
      "cell_type": "code",
      "source": [
        "#Example\n",
        "d = [1,2]\n",
        "\n",
        "hm=statistics.harmonic_mean(d)/2\n",
        "hm"
      ],
      "metadata": {
        "id": "zc0N7UWfQ_fs"
      },
      "execution_count": null,
      "outputs": []
    },
    {
      "cell_type": "markdown",
      "source": [
        "**List to data frames Examples:**\n",
        "\n",
        "---\n",
        "\n",
        "\n",
        "\n",
        "https://www.statology.org/list-to-dataframe-python/\n"
      ],
      "metadata": {
        "id": "Z0eKn4xM5Blk"
      }
    },
    {
      "cell_type": "markdown",
      "source": [
        "**Sn = [ph_8.5, DO_5,Turbidity_5,TA_200,TDS_500,Mg_30,F_1]**\n"
      ],
      "metadata": {
        "id": "tXXmCReUuIZd"
      }
    },
    {
      "cell_type": "code",
      "source": [
        "Sn = [8.5,5,5,200,500,30,1]\n",
        "\n",
        "k=statistics.harmonic_mean(Sn)/len(Sn)\n",
        "k\n",
        "\n",
        "Wn=[]\n",
        "for i in range(0,len(Sn)):\n",
        "  w =k/Sn[i]\n",
        "  Wn.append(w)\n",
        "Wn  \n",
        "\n",
        "Wn_c= pd.DataFrame(Wn,columns=[\"Wn\"])\n",
        "Wn_c"
      ],
      "metadata": {
        "id": "hJatHCK3xjTR"
      },
      "execution_count": null,
      "outputs": []
    },
    {
      "cell_type": "code",
      "source": [
        "k\n",
        "L=len(Sn)\n",
        "L"
      ],
      "metadata": {
        "id": "eemobbDAspBg"
      },
      "execution_count": null,
      "outputs": []
    },
    {
      "cell_type": "code",
      "source": [
        "Wn_c.shape"
      ],
      "metadata": {
        "id": "Sn9y34bG2uBo"
      },
      "execution_count": null,
      "outputs": []
    },
    {
      "cell_type": "code",
      "source": [
        "df"
      ],
      "metadata": {
        "id": "lVglqiy058Qj"
      },
      "execution_count": null,
      "outputs": []
    },
    {
      "cell_type": "markdown",
      "source": [
        "![row_X_list.png](data:image/png;base64,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)"
      ],
      "metadata": {
        "id": "-0RTnAzDC_TN"
      }
    },
    {
      "cell_type": "code",
      "source": [
        "z = df.iloc[:,16:]\n",
        "z"
      ],
      "metadata": {
        "id": "nyq14VshCR_7"
      },
      "execution_count": null,
      "outputs": []
    },
    {
      "cell_type": "code",
      "source": [
        "y= z.mul(Wn)\n",
        "y"
      ],
      "metadata": {
        "id": "OmhwwSx6DeHx"
      },
      "execution_count": null,
      "outputs": []
    },
    {
      "cell_type": "code",
      "source": [
        "s = y.sum(axis =1)\n",
        "s"
      ],
      "metadata": {
        "id": "0NPz5ecLEKQR"
      },
      "execution_count": null,
      "outputs": []
    },
    {
      "cell_type": "code",
      "source": [
        "y['WQI']= s\n",
        "y.to_csv(\"F_WQI_Ap_jan_2021.csv\")"
      ],
      "metadata": {
        "id": "OKAz5gUv6eQy"
      },
      "execution_count": null,
      "outputs": []
    },
    {
      "cell_type": "code",
      "source": [
        "y"
      ],
      "metadata": {
        "id": "jF_GdsCyF9Kw"
      },
      "execution_count": null,
      "outputs": []
    },
    {
      "cell_type": "code",
      "source": [
        "df['wqi']=s\n",
        "df.to_csv(\"F1_WQI_Ap_jan_2021.csv\")"
      ],
      "metadata": {
        "id": "7aCtg5cuF-CI"
      },
      "execution_count": null,
      "outputs": []
    },
    {
      "cell_type": "code",
      "source": [
        "df.groupby(['Regional Office']).count()['wqi'].plot(kind= 'pie')\n"
      ],
      "metadata": {
        "id": "QjuWTUKdo5bk"
      },
      "execution_count": null,
      "outputs": []
    },
    {
      "cell_type": "code",
      "source": [
        "df\n"
      ],
      "metadata": {
        "id": "YdoS2U7_N0MV"
      },
      "execution_count": null,
      "outputs": []
    },
    {
      "cell_type": "markdown",
      "source": [
        "**Deleting the sub-index & weighting after using for calculation**"
      ],
      "metadata": {
        "id": "Gtz3SwxNwy6O"
      }
    },
    {
      "cell_type": "code",
      "source": [
        "li=['qpH','q_DO','q_Turbidity','q_TA','q_TDS','q_Mg','q_F']\n",
        "for i in range(0,len(li)):\n",
        "  del df[li[i]]"
      ],
      "metadata": {
        "id": "uD2Wt9XG1Jpa"
      },
      "execution_count": null,
      "outputs": []
    },
    {
      "cell_type": "markdown",
      "source": [
        "![image.png](data:image/png;base64,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)"
      ],
      "metadata": {
        "id": "Abz-t6-K_Y-V"
      }
    },
    {
      "cell_type": "code",
      "source": [
        "df"
      ],
      "metadata": {
        "id": "SWZxcA9k2htU"
      },
      "execution_count": null,
      "outputs": []
    },
    {
      "cell_type": "markdown",
      "source": [
        "**Violin Plots**"
      ],
      "metadata": {
        "id": "axBSB6R7sOWr"
      }
    },
    {
      "cell_type": "code",
      "source": [
        "# plotting the violin chart\n",
        "fig = px.violin(df, x=\"District\", y=\"wqi\")\n",
        " \n",
        "# showing the plot\n",
        "fig.show()"
      ],
      "metadata": {
        "id": "Hy5TpTjSnYPv"
      },
      "execution_count": null,
      "outputs": []
    },
    {
      "cell_type": "markdown",
      "source": [
        "**3D LINE Plots**"
      ],
      "metadata": {
        "id": "b6BOxHkHrDHR"
      }
    },
    {
      "cell_type": "code",
      "source": [
        "# plotting the figure\n",
        "fig = px.line_3d(df, x=\"District\", y=\"wqi\",z=\"Monitoring date\", color=\"wqi\")\n",
        " \n",
        "fig.show()"
      ],
      "metadata": {
        "id": "vainWKyin74n"
      },
      "execution_count": null,
      "outputs": []
    },
    {
      "cell_type": "code",
      "source": [
        "from mpl_toolkits.mplot3d import Axes3D\n",
        "\n",
        "fi=plt.figure()\n",
        "ax1=fi.add_subplot(111, projection='3d')\n",
        "xpos=df.Districts\n",
        "ypos=df.wqi\n",
        "zpos=df."
      ],
      "metadata": {
        "id": "ReTFpAWod0a9"
      },
      "execution_count": null,
      "outputs": []
    },
    {
      "cell_type": "code",
      "source": [
        "clas=df.wqi\n",
        "clas"
      ],
      "metadata": {
        "id": "lTaJ_lKjBFgN"
      },
      "execution_count": null,
      "outputs": []
    },
    {
      "cell_type": "code",
      "source": [
        " wqi_list=[]\n",
        " for x in df['wqi']:\n",
        "  if x<=25:\n",
        "   wqi_list.append('Excellent')\n",
        "  elif 25<x<=50:\n",
        "    wqi_list.append('Good')\n",
        "  elif 50<x<=75:\n",
        "    wqi_list.append('Poor')\n",
        "  elif 75<x<=100:\n",
        "    wqi_list.append('Very poor')\n",
        "  elif x>100:\n",
        "    wqi_list.append('Not suitable')  "
      ],
      "metadata": {
        "id": "yIpv90FKuhrX"
      },
      "execution_count": null,
      "outputs": []
    },
    {
      "cell_type": "code",
      "source": [
        "#wqi_list"
      ],
      "metadata": {
        "id": "Ri0nevNYv40N"
      },
      "execution_count": null,
      "outputs": []
    },
    {
      "cell_type": "code",
      "source": [
        "df[\"quality\"]=wqi_list"
      ],
      "metadata": {
        "id": "hh91AKp5v_OM"
      },
      "execution_count": null,
      "outputs": []
    },
    {
      "cell_type": "code",
      "source": [
        "df.head()"
      ],
      "metadata": {
        "id": "4S8kmZjiwRfc"
      },
      "execution_count": null,
      "outputs": []
    },
    {
      "cell_type": "code",
      "source": [
        "df.groupby(['quality']).count()['wqi'].plot(kind= 'bar')"
      ],
      "metadata": {
        "id": "dzgR9BIg-EGZ"
      },
      "execution_count": null,
      "outputs": []
    },
    {
      "cell_type": "markdown",
      "source": [
        "Plotly Bar Charts\n",
        "\n",
        "https://plotly.com/python/bar-charts/\n"
      ],
      "metadata": {
        "id": "5wSGqVkxOABz"
      }
    },
    {
      "cell_type": "code",
      "source": [
        "fig = px.bar(df, x='District', y='wqi')\n",
        "fig.yticks([])\n",
        "fig.show()"
      ],
      "metadata": {
        "id": "rO_6B3EPNRGB"
      },
      "execution_count": null,
      "outputs": []
    },
    {
      "cell_type": "markdown",
      "source": [
        "Hiding Axes values "
      ],
      "metadata": {
        "id": "j-MLqlCb9oW_"
      }
    },
    {
      "cell_type": "code",
      "source": [
        "fig = px.bar(x= df.District ,y =df.wqi)\n",
        "# Set the visibility ON\n",
        "fig.update_xaxes(title='Districts', visible=True, showticklabels=True)\n",
        "# Set the visibility OFF\n",
        "fig.update_yaxes(title='WQI', visible=True, showticklabels=False)\n",
        "fig.show()"
      ],
      "metadata": {
        "id": "WBW8QN5IISGX"
      },
      "execution_count": null,
      "outputs": []
    },
    {
      "cell_type": "code",
      "source": [
        ""
      ],
      "metadata": {
        "id": "KyUJRMIHbMAP"
      },
      "execution_count": null,
      "outputs": []
    },
    {
      "cell_type": "code",
      "source": [
        "df.groupby(['quality']).count()['wqi'].plot(kind= 'pie')"
      ],
      "metadata": {
        "id": "TtTXBuZS_OKX"
      },
      "execution_count": null,
      "outputs": []
    },
    {
      "cell_type": "code",
      "source": [
        "df.groupby(['quality']).count()['wqi'].plot(kind= 'line')"
      ],
      "metadata": {
        "id": "OF92Cv4Pcm3w"
      },
      "execution_count": null,
      "outputs": []
    },
    {
      "cell_type": "code",
      "source": [
        "x=df.quality\n",
        "y=df.wqi\n",
        "plt.xlabel('Quality')"
      ],
      "metadata": {
        "id": "qQZMcItmA0kZ"
      },
      "execution_count": null,
      "outputs": []
    },
    {
      "cell_type": "code",
      "source": [
        "\n",
        "# Creating dataset\n",
        "#cars-quality \n",
        " \n",
        "#data-wqi\n",
        "\n",
        " \n",
        "# Creating explode data\n",
        "explode = (0.1, 0.0, 0.2, 0.3, 0.0)\n",
        " \n",
        "# Creating color parameters\n",
        "colors = ( \"orange\", \"cyan\", \"brown\",\"grey\", \"indigo\")\n",
        " \n",
        "# Wedge properties\n",
        "wp = { 'linewidth' : 1, 'edgecolor' : \"green\" }\n",
        " \n",
        "# Creating autocpt arguments\n",
        "def func(pct, allvalues):\n",
        "    absolute = int(pct / 100.*np.sum(allvalues))\n",
        "    return \"{:.1f}%\\n({:d} g)\".format(pct, absolute)\n",
        " \n",
        "# Creating plot\n",
        "fig, ax = plt.subplots(figsize =(10, 7))\n",
        "wedges, texts, autotexts = ax.pie(df.wqi,autopct = lambda pct: func(pct, df.wqi),explode = explode,labels = df.quality,shadow = True,colors = colors,startangle = 90,wedgeprops = wp,textprops = dict(color =\"magenta\"))\n",
        " \n",
        "# Adding legend\n",
        "ax.legend(wedges, df.quality,title =\"Quality\",loc =\"center left\",bbox_to_anchor =(1, 0, 0.5,1))\n",
        " \n",
        "plt.setp(autotexts, size = 8, weight =\"bold\")\n",
        "ax.set_title(\"Customizing pie chart\")\n",
        " \n",
        "# show plot\n",
        "plt.show()"
      ],
      "metadata": {
        "id": "EdNGLk2OqIv0"
      },
      "execution_count": null,
      "outputs": []
    },
    {
      "cell_type": "code",
      "source": [
        "df.to_csv(\"F2_WQI_Ap_jan_2021.csv\")"
      ],
      "metadata": {
        "id": "ylKgHBTf8HDO"
      },
      "execution_count": null,
      "outputs": []
    },
    {
      "cell_type": "code",
      "source": [
        "df2=df.drop(['District', 'Regional Office','Monitoring date','quality','S.no'], axis=1)"
      ],
      "metadata": {
        "id": "Dq36M2Dc8KAW"
      },
      "execution_count": null,
      "outputs": []
    },
    {
      "cell_type": "code",
      "source": [
        "df2.head()"
      ],
      "metadata": {
        "id": "wVTr4A1gn8F0"
      },
      "execution_count": null,
      "outputs": []
    },
    {
      "cell_type": "markdown",
      "source": [
        "#It begins"
      ],
      "metadata": {
        "id": "1Y039CsGn_ml"
      }
    },
    {
      "cell_type": "code",
      "source": [
        "df2=pd.read_csv(\"/content/Jan_wqi_2018.csvE\",index_col=[0])"
      ],
      "metadata": {
        "id": "_tYNeluYc_3u",
        "colab": {
          "base_uri": "https://localhost:8080/",
          "height": 328
        },
        "outputId": "1bda0b66-c269-4720-83f0-0f0dd60d1b7f"
      },
      "execution_count": null,
      "outputs": [
        {
          "output_type": "error",
          "ename": "FileNotFoundError",
          "evalue": "ignored",
          "traceback": [
            "\u001b[0;31m---------------------------------------------------------------------------\u001b[0m",
            "\u001b[0;31mFileNotFoundError\u001b[0m                         Traceback (most recent call last)",
            "\u001b[0;32m<ipython-input-21-45d8a2a7a754>\u001b[0m in \u001b[0;36m<module>\u001b[0;34m()\u001b[0m\n\u001b[0;32m----> 1\u001b[0;31m \u001b[0mdf2\u001b[0m\u001b[0;34m=\u001b[0m\u001b[0mpd\u001b[0m\u001b[0;34m.\u001b[0m\u001b[0mread_csv\u001b[0m\u001b[0;34m(\u001b[0m\u001b[0;34m\"/content/Jan_wqi_2018.csvE\"\u001b[0m\u001b[0;34m,\u001b[0m\u001b[0mindex_col\u001b[0m\u001b[0;34m=\u001b[0m\u001b[0;34m[\u001b[0m\u001b[0;36m0\u001b[0m\u001b[0;34m]\u001b[0m\u001b[0;34m)\u001b[0m\u001b[0;34m\u001b[0m\u001b[0;34m\u001b[0m\u001b[0m\n\u001b[0m",
            "\u001b[0;32m/usr/local/lib/python3.7/dist-packages/pandas/util/_decorators.py\u001b[0m in \u001b[0;36mwrapper\u001b[0;34m(*args, **kwargs)\u001b[0m\n\u001b[1;32m    309\u001b[0m                     \u001b[0mstacklevel\u001b[0m\u001b[0;34m=\u001b[0m\u001b[0mstacklevel\u001b[0m\u001b[0;34m,\u001b[0m\u001b[0;34m\u001b[0m\u001b[0;34m\u001b[0m\u001b[0m\n\u001b[1;32m    310\u001b[0m                 )\n\u001b[0;32m--> 311\u001b[0;31m             \u001b[0;32mreturn\u001b[0m \u001b[0mfunc\u001b[0m\u001b[0;34m(\u001b[0m\u001b[0;34m*\u001b[0m\u001b[0margs\u001b[0m\u001b[0;34m,\u001b[0m \u001b[0;34m**\u001b[0m\u001b[0mkwargs\u001b[0m\u001b[0;34m)\u001b[0m\u001b[0;34m\u001b[0m\u001b[0;34m\u001b[0m\u001b[0m\n\u001b[0m\u001b[1;32m    312\u001b[0m \u001b[0;34m\u001b[0m\u001b[0m\n\u001b[1;32m    313\u001b[0m         \u001b[0;32mreturn\u001b[0m \u001b[0mwrapper\u001b[0m\u001b[0;34m\u001b[0m\u001b[0;34m\u001b[0m\u001b[0m\n",
            "\u001b[0;32m/usr/local/lib/python3.7/dist-packages/pandas/io/parsers/readers.py\u001b[0m in \u001b[0;36mread_csv\u001b[0;34m(filepath_or_buffer, sep, delimiter, header, names, index_col, usecols, squeeze, prefix, mangle_dupe_cols, dtype, engine, converters, true_values, false_values, skipinitialspace, skiprows, skipfooter, nrows, na_values, keep_default_na, na_filter, verbose, skip_blank_lines, parse_dates, infer_datetime_format, keep_date_col, date_parser, dayfirst, cache_dates, iterator, chunksize, compression, thousands, decimal, lineterminator, quotechar, quoting, doublequote, escapechar, comment, encoding, encoding_errors, dialect, error_bad_lines, warn_bad_lines, on_bad_lines, delim_whitespace, low_memory, memory_map, float_precision, storage_options)\u001b[0m\n\u001b[1;32m    584\u001b[0m     \u001b[0mkwds\u001b[0m\u001b[0;34m.\u001b[0m\u001b[0mupdate\u001b[0m\u001b[0;34m(\u001b[0m\u001b[0mkwds_defaults\u001b[0m\u001b[0;34m)\u001b[0m\u001b[0;34m\u001b[0m\u001b[0;34m\u001b[0m\u001b[0m\n\u001b[1;32m    585\u001b[0m \u001b[0;34m\u001b[0m\u001b[0m\n\u001b[0;32m--> 586\u001b[0;31m     \u001b[0;32mreturn\u001b[0m \u001b[0m_read\u001b[0m\u001b[0;34m(\u001b[0m\u001b[0mfilepath_or_buffer\u001b[0m\u001b[0;34m,\u001b[0m \u001b[0mkwds\u001b[0m\u001b[0;34m)\u001b[0m\u001b[0;34m\u001b[0m\u001b[0;34m\u001b[0m\u001b[0m\n\u001b[0m\u001b[1;32m    587\u001b[0m \u001b[0;34m\u001b[0m\u001b[0m\n\u001b[1;32m    588\u001b[0m \u001b[0;34m\u001b[0m\u001b[0m\n",
            "\u001b[0;32m/usr/local/lib/python3.7/dist-packages/pandas/io/parsers/readers.py\u001b[0m in \u001b[0;36m_read\u001b[0;34m(filepath_or_buffer, kwds)\u001b[0m\n\u001b[1;32m    480\u001b[0m \u001b[0;34m\u001b[0m\u001b[0m\n\u001b[1;32m    481\u001b[0m     \u001b[0;31m# Create the parser.\u001b[0m\u001b[0;34m\u001b[0m\u001b[0;34m\u001b[0m\u001b[0;34m\u001b[0m\u001b[0m\n\u001b[0;32m--> 482\u001b[0;31m     \u001b[0mparser\u001b[0m \u001b[0;34m=\u001b[0m \u001b[0mTextFileReader\u001b[0m\u001b[0;34m(\u001b[0m\u001b[0mfilepath_or_buffer\u001b[0m\u001b[0;34m,\u001b[0m \u001b[0;34m**\u001b[0m\u001b[0mkwds\u001b[0m\u001b[0;34m)\u001b[0m\u001b[0;34m\u001b[0m\u001b[0;34m\u001b[0m\u001b[0m\n\u001b[0m\u001b[1;32m    483\u001b[0m \u001b[0;34m\u001b[0m\u001b[0m\n\u001b[1;32m    484\u001b[0m     \u001b[0;32mif\u001b[0m \u001b[0mchunksize\u001b[0m \u001b[0;32mor\u001b[0m \u001b[0miterator\u001b[0m\u001b[0;34m:\u001b[0m\u001b[0;34m\u001b[0m\u001b[0;34m\u001b[0m\u001b[0m\n",
            "\u001b[0;32m/usr/local/lib/python3.7/dist-packages/pandas/io/parsers/readers.py\u001b[0m in \u001b[0;36m__init__\u001b[0;34m(self, f, engine, **kwds)\u001b[0m\n\u001b[1;32m    809\u001b[0m             \u001b[0mself\u001b[0m\u001b[0;34m.\u001b[0m\u001b[0moptions\u001b[0m\u001b[0;34m[\u001b[0m\u001b[0;34m\"has_index_names\"\u001b[0m\u001b[0;34m]\u001b[0m \u001b[0;34m=\u001b[0m \u001b[0mkwds\u001b[0m\u001b[0;34m[\u001b[0m\u001b[0;34m\"has_index_names\"\u001b[0m\u001b[0;34m]\u001b[0m\u001b[0;34m\u001b[0m\u001b[0;34m\u001b[0m\u001b[0m\n\u001b[1;32m    810\u001b[0m \u001b[0;34m\u001b[0m\u001b[0m\n\u001b[0;32m--> 811\u001b[0;31m         \u001b[0mself\u001b[0m\u001b[0;34m.\u001b[0m\u001b[0m_engine\u001b[0m \u001b[0;34m=\u001b[0m \u001b[0mself\u001b[0m\u001b[0;34m.\u001b[0m\u001b[0m_make_engine\u001b[0m\u001b[0;34m(\u001b[0m\u001b[0mself\u001b[0m\u001b[0;34m.\u001b[0m\u001b[0mengine\u001b[0m\u001b[0;34m)\u001b[0m\u001b[0;34m\u001b[0m\u001b[0;34m\u001b[0m\u001b[0m\n\u001b[0m\u001b[1;32m    812\u001b[0m \u001b[0;34m\u001b[0m\u001b[0m\n\u001b[1;32m    813\u001b[0m     \u001b[0;32mdef\u001b[0m \u001b[0mclose\u001b[0m\u001b[0;34m(\u001b[0m\u001b[0mself\u001b[0m\u001b[0;34m)\u001b[0m\u001b[0;34m:\u001b[0m\u001b[0;34m\u001b[0m\u001b[0;34m\u001b[0m\u001b[0m\n",
            "\u001b[0;32m/usr/local/lib/python3.7/dist-packages/pandas/io/parsers/readers.py\u001b[0m in \u001b[0;36m_make_engine\u001b[0;34m(self, engine)\u001b[0m\n\u001b[1;32m   1038\u001b[0m             )\n\u001b[1;32m   1039\u001b[0m         \u001b[0;31m# error: Too many arguments for \"ParserBase\"\u001b[0m\u001b[0;34m\u001b[0m\u001b[0;34m\u001b[0m\u001b[0;34m\u001b[0m\u001b[0m\n\u001b[0;32m-> 1040\u001b[0;31m         \u001b[0;32mreturn\u001b[0m \u001b[0mmapping\u001b[0m\u001b[0;34m[\u001b[0m\u001b[0mengine\u001b[0m\u001b[0;34m]\u001b[0m\u001b[0;34m(\u001b[0m\u001b[0mself\u001b[0m\u001b[0;34m.\u001b[0m\u001b[0mf\u001b[0m\u001b[0;34m,\u001b[0m \u001b[0;34m**\u001b[0m\u001b[0mself\u001b[0m\u001b[0;34m.\u001b[0m\u001b[0moptions\u001b[0m\u001b[0;34m)\u001b[0m  \u001b[0;31m# type: ignore[call-arg]\u001b[0m\u001b[0;34m\u001b[0m\u001b[0;34m\u001b[0m\u001b[0m\n\u001b[0m\u001b[1;32m   1041\u001b[0m \u001b[0;34m\u001b[0m\u001b[0m\n\u001b[1;32m   1042\u001b[0m     \u001b[0;32mdef\u001b[0m \u001b[0m_failover_to_python\u001b[0m\u001b[0;34m(\u001b[0m\u001b[0mself\u001b[0m\u001b[0;34m)\u001b[0m\u001b[0;34m:\u001b[0m\u001b[0;34m\u001b[0m\u001b[0;34m\u001b[0m\u001b[0m\n",
            "\u001b[0;32m/usr/local/lib/python3.7/dist-packages/pandas/io/parsers/c_parser_wrapper.py\u001b[0m in \u001b[0;36m__init__\u001b[0;34m(self, src, **kwds)\u001b[0m\n\u001b[1;32m     49\u001b[0m \u001b[0;34m\u001b[0m\u001b[0m\n\u001b[1;32m     50\u001b[0m         \u001b[0;31m# open handles\u001b[0m\u001b[0;34m\u001b[0m\u001b[0;34m\u001b[0m\u001b[0;34m\u001b[0m\u001b[0m\n\u001b[0;32m---> 51\u001b[0;31m         \u001b[0mself\u001b[0m\u001b[0;34m.\u001b[0m\u001b[0m_open_handles\u001b[0m\u001b[0;34m(\u001b[0m\u001b[0msrc\u001b[0m\u001b[0;34m,\u001b[0m \u001b[0mkwds\u001b[0m\u001b[0;34m)\u001b[0m\u001b[0;34m\u001b[0m\u001b[0;34m\u001b[0m\u001b[0m\n\u001b[0m\u001b[1;32m     52\u001b[0m         \u001b[0;32massert\u001b[0m \u001b[0mself\u001b[0m\u001b[0;34m.\u001b[0m\u001b[0mhandles\u001b[0m \u001b[0;32mis\u001b[0m \u001b[0;32mnot\u001b[0m \u001b[0;32mNone\u001b[0m\u001b[0;34m\u001b[0m\u001b[0;34m\u001b[0m\u001b[0m\n\u001b[1;32m     53\u001b[0m \u001b[0;34m\u001b[0m\u001b[0m\n",
            "\u001b[0;32m/usr/local/lib/python3.7/dist-packages/pandas/io/parsers/base_parser.py\u001b[0m in \u001b[0;36m_open_handles\u001b[0;34m(self, src, kwds)\u001b[0m\n\u001b[1;32m    227\u001b[0m             \u001b[0mmemory_map\u001b[0m\u001b[0;34m=\u001b[0m\u001b[0mkwds\u001b[0m\u001b[0;34m.\u001b[0m\u001b[0mget\u001b[0m\u001b[0;34m(\u001b[0m\u001b[0;34m\"memory_map\"\u001b[0m\u001b[0;34m,\u001b[0m \u001b[0;32mFalse\u001b[0m\u001b[0;34m)\u001b[0m\u001b[0;34m,\u001b[0m\u001b[0;34m\u001b[0m\u001b[0;34m\u001b[0m\u001b[0m\n\u001b[1;32m    228\u001b[0m             \u001b[0mstorage_options\u001b[0m\u001b[0;34m=\u001b[0m\u001b[0mkwds\u001b[0m\u001b[0;34m.\u001b[0m\u001b[0mget\u001b[0m\u001b[0;34m(\u001b[0m\u001b[0;34m\"storage_options\"\u001b[0m\u001b[0;34m,\u001b[0m \u001b[0;32mNone\u001b[0m\u001b[0;34m)\u001b[0m\u001b[0;34m,\u001b[0m\u001b[0;34m\u001b[0m\u001b[0;34m\u001b[0m\u001b[0m\n\u001b[0;32m--> 229\u001b[0;31m             \u001b[0merrors\u001b[0m\u001b[0;34m=\u001b[0m\u001b[0mkwds\u001b[0m\u001b[0;34m.\u001b[0m\u001b[0mget\u001b[0m\u001b[0;34m(\u001b[0m\u001b[0;34m\"encoding_errors\"\u001b[0m\u001b[0;34m,\u001b[0m \u001b[0;34m\"strict\"\u001b[0m\u001b[0;34m)\u001b[0m\u001b[0;34m,\u001b[0m\u001b[0;34m\u001b[0m\u001b[0;34m\u001b[0m\u001b[0m\n\u001b[0m\u001b[1;32m    230\u001b[0m         )\n\u001b[1;32m    231\u001b[0m \u001b[0;34m\u001b[0m\u001b[0m\n",
            "\u001b[0;32m/usr/local/lib/python3.7/dist-packages/pandas/io/common.py\u001b[0m in \u001b[0;36mget_handle\u001b[0;34m(path_or_buf, mode, encoding, compression, memory_map, is_text, errors, storage_options)\u001b[0m\n\u001b[1;32m    705\u001b[0m                 \u001b[0mencoding\u001b[0m\u001b[0;34m=\u001b[0m\u001b[0mioargs\u001b[0m\u001b[0;34m.\u001b[0m\u001b[0mencoding\u001b[0m\u001b[0;34m,\u001b[0m\u001b[0;34m\u001b[0m\u001b[0;34m\u001b[0m\u001b[0m\n\u001b[1;32m    706\u001b[0m                 \u001b[0merrors\u001b[0m\u001b[0;34m=\u001b[0m\u001b[0merrors\u001b[0m\u001b[0;34m,\u001b[0m\u001b[0;34m\u001b[0m\u001b[0;34m\u001b[0m\u001b[0m\n\u001b[0;32m--> 707\u001b[0;31m                 \u001b[0mnewline\u001b[0m\u001b[0;34m=\u001b[0m\u001b[0;34m\"\"\u001b[0m\u001b[0;34m,\u001b[0m\u001b[0;34m\u001b[0m\u001b[0;34m\u001b[0m\u001b[0m\n\u001b[0m\u001b[1;32m    708\u001b[0m             )\n\u001b[1;32m    709\u001b[0m         \u001b[0;32melse\u001b[0m\u001b[0;34m:\u001b[0m\u001b[0;34m\u001b[0m\u001b[0;34m\u001b[0m\u001b[0m\n",
            "\u001b[0;31mFileNotFoundError\u001b[0m: [Errno 2] No such file or directory: '/content/Jan_wqi_2018.csvE'"
          ]
        }
      ]
    },
    {
      "cell_type": "code",
      "source": [
        "zxzaxdf2.corr()"
      ],
      "metadata": {
        "id": "7s7oTz3Zn-_3"
      },
      "execution_count": null,
      "outputs": []
    },
    {
      "cell_type": "code",
      "source": [
        "plt.figure(figsize=(13,8))\n",
        "sns.heatmap(df.drop([\"S.no\"],axis=1).corr(),annot=True,cmap='terrain')\n",
        "plt.show()"
      ],
      "metadata": {
        "id": "fe9GvGQGooz5"
      },
      "execution_count": null,
      "outputs": []
    },
    {
      "cell_type": "code",
      "source": [
        "df2.head(2)"
      ],
      "metadata": {
        "id": "E4Pi921hfjOG"
      },
      "execution_count": null,
      "outputs": []
    },
    {
      "cell_type": "code",
      "source": [
        "df2.columns"
      ],
      "metadata": {
        "id": "JOBSDbIDfqsj"
      },
      "execution_count": null,
      "outputs": []
    },
    {
      "cell_type": "code",
      "source": [
        "df2=df2.drop(['S.No.', 'Station_name', 'District/RO', 'Monitoring_date','quality'], axis=1)"
      ],
      "metadata": {
        "id": "-2o_Bq3YdTal"
      },
      "execution_count": null,
      "outputs": []
    },
    {
      "cell_type": "code",
      "source": [
        "#df2=df2.drop(index=0,axis=1)\n",
        "df2.head()"
      ],
      "metadata": {
        "id": "E1G8-4lvdXAZ"
      },
      "execution_count": null,
      "outputs": []
    },
    {
      "cell_type": "code",
      "source": [
        "#models\n"
      ],
      "metadata": {
        "id": "M8TW8QJeqdPB"
      },
      "execution_count": null,
      "outputs": []
    },
    {
      "cell_type": "code",
      "source": [
        "X = df2.drop('wqi', axis=1)\n",
        "y = df2.wqi"
      ],
      "metadata": {
        "id": "gyS4b65PsARU"
      },
      "execution_count": null,
      "outputs": []
    },
    {
      "cell_type": "code",
      "source": [
        "from sklearn.model_selection import train_test_split\n",
        "from sklearn.preprocessing import StandardScaler,MinMaxScaler\n",
        "X_train, x_test, y_train, y_test = train_test_split(X, y, test_size=0.3, random_state=101)"
      ],
      "metadata": {
        "id": "HXC24QF7r_SX"
      },
      "execution_count": null,
      "outputs": []
    },
    {
      "cell_type": "code",
      "source": [
        "y_test.shape"
      ],
      "metadata": {
        "id": "9IGtQGCKsQ--"
      },
      "execution_count": null,
      "outputs": []
    },
    {
      "cell_type": "code",
      "source": [
        "from sklearn.linear_model import LinearRegression\n",
        "lm = LinearRegression()\n",
        "lm.fit(X_train , y_train)\n",
        "y_pred = lm.predict(x_test)\n",
        "y_pred"
      ],
      "metadata": {
        "id": "1Tyuha0Ksai3"
      },
      "execution_count": null,
      "outputs": []
    },
    {
      "cell_type": "code",
      "source": [
        "import pickle\n",
        " \n",
        "# Save the trained model as a pickle string.\n",
        "saved_model = pickle.dumps(lm)\n",
        "pickle.dump(lm, open(\"lm2.pkl\", \"wb\"))\n",
        "# Load the pickled model\n",
        "imported_model = pickle.loads(saved_model)\n",
        " \n",
        "# Use the loaded pickled model to make predictions\n",
        "imported_model.predict(x_test)"
      ],
      "metadata": {
        "id": "LJFJdx12elap"
      },
      "execution_count": null,
      "outputs": []
    },
    {
      "cell_type": "code",
      "source": [
        "from sklearn import metrics\n",
        "from sklearn.metrics import mean_squared_error,mean_absolute_error,explained_variance_score, r2_score\n",
        "print('Mean Absolute Error(MAE):', metrics.mean_absolute_error(y_test, y_pred))\n",
        "print('Mean Squared Error(MSE):', metrics.mean_squared_error(y_test, y_pred))\n",
        "print('Root Mean Squared Error (RMSE):', np.sqrt(metrics.mean_squared_error(y_test, y_pred)))\n",
        "print('Explained Variance Score (EVS):',explained_variance_score(y_test,y_pred))\n",
        "print('R2:',metrics.r2_score(y_test, y_pred))"
      ],
      "metadata": {
        "id": "HMX6OZLYxcBY"
      },
      "execution_count": null,
      "outputs": []
    },
    {
      "cell_type": "code",
      "source": [
        "df2.shape"
      ],
      "metadata": {
        "id": "S7akSHjqM84n"
      },
      "execution_count": null,
      "outputs": []
    },
    {
      "cell_type": "code",
      "source": [
        "df2.drop(df2[df2['wqi'] > 300].index, inplace = True)"
      ],
      "metadata": {
        "id": "WaaAeNmQMsaE"
      },
      "execution_count": null,
      "outputs": []
    },
    {
      "cell_type": "code",
      "source": [
        "X = df2.drop('wqi', axis=1)\n",
        "y = df2.wqi\n",
        "X_train, x_test, y_train, y_test = train_test_split(X, y, test_size=0.3, random_state=101)"
      ],
      "metadata": {
        "id": "4HC9nAeEMnd5"
      },
      "execution_count": null,
      "outputs": []
    },
    {
      "cell_type": "code",
      "source": [
        "X_train.head()"
      ],
      "metadata": {
        "id": "yl1B14NCJud9"
      },
      "execution_count": null,
      "outputs": []
    },
    {
      "cell_type": "markdown",
      "source": [
        "Change features here to get different plots"
      ],
      "metadata": {
        "id": "-JpYqaH_OG9V"
      }
    },
    {
      "cell_type": "code",
      "source": [
        "x_ph = X_train['Fluoride'].values.reshape(-1,1) \n",
        "#y_ph=y_test.values"
      ],
      "metadata": {
        "id": "TcSFUNThJgu3"
      },
      "execution_count": null,
      "outputs": []
    },
    {
      "cell_type": "code",
      "source": [
        "#x_ph"
      ],
      "metadata": {
        "id": "nJqcnMx9Lm7h"
      },
      "execution_count": null,
      "outputs": []
    },
    {
      "cell_type": "code",
      "source": [
        "ln = LinearRegression()\n",
        "ln.fit(x_ph , y_train)\n",
        "y_ph = ln.predict(x_ph)"
      ],
      "metadata": {
        "id": "bnLKTlntJleR"
      },
      "execution_count": null,
      "outputs": []
    },
    {
      "cell_type": "code",
      "source": [
        "print('MSE:',metrics.mean_squared_error(y_train, y_ph))\n",
        "print('R2:',metrics.r2_score(y_train, y_ph))"
      ],
      "metadata": {
        "id": "sQXWkVljJlav"
      },
      "execution_count": null,
      "outputs": []
    },
    {
      "cell_type": "code",
      "source": [
        "plt.style.use('default')\n",
        "plt.style.use('ggplot')\n",
        "\n",
        "fig, ax = plt.subplots(figsize=(8, 4))\n",
        "\n",
        "ax.plot(x_ph, y_ph, color='k', label='Regression model')\n",
        "ax.scatter(x_ph, y_train, edgecolor='k', facecolor='grey', alpha=0.7, label='Sample data')\n",
        "ax.set_ylabel('WQI', fontsize=14)\n",
        "ax.set_xlabel('Flouride', fontsize=14)\n",
        "ax.legend(facecolor='white', fontsize=11)\n",
        "fig.tight_layout()"
      ],
      "metadata": {
        "id": "Q7VgwRBgJlYX"
      },
      "execution_count": null,
      "outputs": []
    },
    {
      "cell_type": "code",
      "source": [
        "y_test"
      ],
      "metadata": {
        "id": "xgXTGLoz2pkC"
      },
      "execution_count": null,
      "outputs": []
    },
    {
      "cell_type": "code",
      "source": [
        "#y_test.plot()"
      ],
      "metadata": {
        "id": "LthxEL1002dC"
      },
      "execution_count": null,
      "outputs": []
    },
    {
      "cell_type": "code",
      "source": [
        "print('R2 rounded:',(metrics.r2_score(y_test, y_pred)).round(2))\n",
        "r2 = r2_score(y_test, y_pred)\n",
        "r2_rounded = r2_score(y_test, y_pred).round(2)"
      ],
      "metadata": {
        "id": "iUUoJRwgyWS8"
      },
      "execution_count": null,
      "outputs": []
    },
    {
      "cell_type": "code",
      "source": [
        "from sklearn.linear_model import Ridge\n",
        "\n",
        "model_ridge = Ridge()\n",
        "model_ridge.fit(X_train , y_train)\n",
        "yr_pred = model_ridge.predict(x_test)\n",
        "yr_pred"
      ],
      "metadata": {
        "id": "JaZ3AvYAt7cK"
      },
      "execution_count": null,
      "outputs": []
    },
    {
      "cell_type": "code",
      "source": [
        "print('Mean Absolute Error(MAE):', metrics.mean_absolute_error(y_test, yr_pred))\n",
        "print('Mean Squared Error(MSE):', metrics.mean_squared_error(y_test, yr_pred))\n",
        "print('Root Mean Squared Error (RMSE):', np.sqrt(metrics.mean_squared_error(y_test, yr_pred)))\n",
        "print('Explained Variance Score (EVS):',explained_variance_score(y_test,yr_pred))\n",
        "print('R2:',metrics.r2_score(y_test, yr_pred))"
      ],
      "metadata": {
        "id": "XtPTd8bNyifn"
      },
      "execution_count": null,
      "outputs": []
    },
    {
      "cell_type": "code",
      "source": [
        "import numpy as np\n",
        "axis=np.linspace(0, 21, 22)"
      ],
      "metadata": {
        "id": "wBWzA2ejO3nA"
      },
      "execution_count": null,
      "outputs": []
    },
    {
      "cell_type": "code",
      "source": [
        "plt.style.use('default')\n",
        "plt.style.use('ggplot')\n",
        "\n",
        "fig, ax = plt.subplots(figsize=(8, 4))\n",
        "\n",
        "ax.plot(axis,yr_pred, color='k', label='Regression model')\n",
        "ax.scatter(axis, y_test, edgecolor='k', facecolor='grey', alpha=0.7, label='Sample data')\n",
        "ax.set_ylabel('WQI', fontsize=14)\n",
        "ax.set_xlabel('Ridge', fontsize=14)\n",
        "#ax.set_xlabel('Flouride', fontsize=14)\n",
        "ax.legend(facecolor='white', fontsize=11)\n",
        "fig.tight_layout()"
      ],
      "metadata": {
        "id": "H-HgnZ27PuWE"
      },
      "execution_count": null,
      "outputs": []
    },
    {
      "cell_type": "code",
      "source": [
        "prin(y_test)"
      ],
      "metadata": {
        "id": "ro65THS22kFB"
      },
      "execution_count": null,
      "outputs": []
    },
    {
      "cell_type": "code",
      "source": [
        ""
      ],
      "metadata": {
        "id": "sPASzN042nFD"
      },
      "execution_count": null,
      "outputs": []
    },
    {
      "cell_type": "code",
      "source": [
        "from sklearn.tree import DecisionTreeRegressor\n",
        "model_DecisionTree = DecisionTreeRegressor()\n",
        "model_DecisionTree.fit(X_train , y_train)\n",
        "yD_pred = model_DecisionTree.predict(x_test)\n",
        "yD_pred"
      ],
      "metadata": {
        "id": "dl9znuL6yqP6"
      },
      "execution_count": null,
      "outputs": []
    },
    {
      "cell_type": "code",
      "source": [
        "print('Mean Absolute Error(MAE):', metrics.mean_absolute_error(y_test, yD_pred))\n",
        "print('Mean Squared Error(MSE):', metrics.mean_squared_error(y_test, yD_pred))\n",
        "print('Root Mean Squared Error (RMSE):', np.sqrt(metrics.mean_squared_error(y_test, yD_pred)))\n",
        "print('Explained Variance Score (EVS):',explained_variance_score(y_test,yD_pred))\n",
        "print('R2:',metrics.r2_score(y_test, yD_pred))"
      ],
      "metadata": {
        "id": "oWQ4uq2dy5Dg"
      },
      "execution_count": null,
      "outputs": []
    },
    {
      "cell_type": "code",
      "source": [
        "plt.style.use('default')\n",
        "plt.style.use('ggplot')\n",
        "\n",
        "fig, ax = plt.subplots(figsize=(8, 4))\n",
        "\n",
        "ax.plot(axis,yD_pred, color='k', label='Regression model')\n",
        "ax.scatter(axis, y_test, edgecolor='k', facecolor='grey', alpha=0.7, label='Sample data')\n",
        "ax.set_ylabel('WQI', fontsize=14)\n",
        "ax.set_xlabel('Decision tree', fontsize=14)\n",
        "#ax.set_xlabel('Flouride', fontsize=14)\n",
        "ax.legend(facecolor='white', fontsize=11)\n",
        "fig.tight_layout()"
      ],
      "metadata": {
        "id": "hiVd2YT-ReqO"
      },
      "execution_count": null,
      "outputs": []
    },
    {
      "cell_type": "code",
      "source": [
        "from sklearn.ensemble import RandomForestRegressor\n",
        "model_RandomForest = RandomForestRegressor()\n",
        "model_RandomForest.fit(X_train , y_train)\n",
        "yRF_pred = model_RandomForest.predict(x_test)\n",
        "yRF_pred"
      ],
      "metadata": {
        "id": "7DZHWG4CzEhx"
      },
      "execution_count": null,
      "outputs": []
    },
    {
      "cell_type": "code",
      "source": [
        "print('Mean Absolute Error(MAE):', metrics.mean_absolute_error(y_test, yRF_pred))\n",
        "print('Mean Squared Error(MSE):', metrics.mean_squared_error(y_test, yRF_pred))\n",
        "print('Root Mean Squared Error (RMSE):', np.sqrt(metrics.mean_squared_error(y_test, yRF_pred)))\n",
        "print('Explained Variance Score (EVS):',explained_variance_score(y_test,yRF_pred))\n",
        "print('R2:',metrics.r2_score(y_test, yRF_pred))\n"
      ],
      "metadata": {
        "id": "v3EYLWnyzJgr"
      },
      "execution_count": null,
      "outputs": []
    },
    {
      "cell_type": "code",
      "source": [
        "plt.style.use('default')\n",
        "plt.style.use('ggplot')\n",
        "\n",
        "fig, ax = plt.subplots(figsize=(8, 4))\n",
        "\n",
        "ax.plot(axis,yRF_pred, color='k', label='Regression model')\n",
        "ax.scatter(axis, y_test, edgecolor='k', facecolor='grey', alpha=0.7, label='Sample data')\n",
        "ax.set_ylabel('WQI', fontsize=14)\n",
        "ax.set_xlabel('RandomForest', fontsize=14)\n",
        "ax.legend(facecolor='white', fontsize=11)\n",
        "fig.tight_layout()"
      ],
      "metadata": {
        "id": "8-RE7kgBRqHs"
      },
      "execution_count": null,
      "outputs": []
    },
    {
      "cell_type": "markdown",
      "source": [
        " linear"
      ],
      "metadata": {
        "id": "aFgsWAQJ88jR"
      }
    },
    {
      "cell_type": "code",
      "source": [
        "import pickle\n",
        " \n",
        "# Save the trained model as a pickle string.\n",
        "saved_model = pickle.dumps(lm)\n",
        "pickle.dump(lm, open(\"lm.pkl\", \"wb\"))\n",
        "# Load the pickled model\n",
        "imported_model = pickle.loads(saved_model)\n",
        " \n",
        "# Use the loaded pickled model to make predictions\n",
        "imported_model.predict(x_test)\n"
      ],
      "metadata": {
        "id": "ucmOs81_8trF"
      },
      "execution_count": null,
      "outputs": []
    },
    {
      "cell_type": "code",
      "source": [
        "print(y_train)"
      ],
      "metadata": {
        "id": "r33oJ71Gt0s5"
      },
      "execution_count": null,
      "outputs": []
    },
    {
      "cell_type": "code",
      "source": [
        "print(y_ph)"
      ],
      "metadata": {
        "id": "ujZE_hb7uY0g"
      },
      "execution_count": null,
      "outputs": []
    }
  ]
}