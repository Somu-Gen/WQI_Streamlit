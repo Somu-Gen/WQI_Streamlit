{
  "nbformat": 4,
  "nbformat_minor": 0,
  "metadata": {
    "colab": {
      "name": "Time Series Forecasting: Regression and LSTMs.ipynb",
      "provenance": [],
      "collapsed_sections": [],
      "include_colab_link": true
    },
    "kernelspec": {
      "name": "python3",
      "display_name": "Python 3"
    },
    "language_info": {
      "name": "python"
    },
    "accelerator": "GPU"
  },
  "cells": [
    {
      "cell_type": "markdown",
      "metadata": {
        "id": "view-in-github",
        "colab_type": "text"
      },
      "source": [
        "<a href=\"https://colab.research.google.com/github/Somu-Gen/WQI_Streamlit/blob/main/Time_Series_Forecasting_Regression_and_LSTMs.ipynb\" target=\"_parent\"><img src=\"https://colab.research.google.com/assets/colab-badge.svg\" alt=\"Open In Colab\"/></a>"
      ]
    },
    {
      "cell_type": "code",
      "execution_count": null,
      "metadata": {
        "id": "_hoFYrut8w11"
      },
      "outputs": [],
      "source": [
        "import pandas as pd\n",
        "df = pd.read_csv('/content/revised_vellore with dates.csv', encoding= 'unicode_escape',index_col=0)"
      ]
    },
    {
      "cell_type": "code",
      "source": [
        "df.head()"
      ],
      "metadata": {
        "colab": {
          "base_uri": "https://localhost:8080/",
          "height": 238
        },
        "id": "6CLIthHL9biN",
        "outputId": "f0861239-a9f6-4d02-ac00-626971a907c8"
      },
      "execution_count": null,
      "outputs": [
        {
          "output_type": "execute_result",
          "data": {
            "text/plain": [
              "     vellore    Latitude   Longitude        Date         TDS   Nitrates  \\\n",
              "ï»¿                                                                       \n",
              "0        NaN  12Â°56'40\"  78Â°52'10\"  01-01-2010  384.519457  13.176923   \n",
              "1        NaN  12Â°58'05\"  79Â°12'25\"  02-01-2010  384.519457  13.176923   \n",
              "2        NaN  13Â°06'17\"  79Â°29'45\"  03-01-2010  384.519457  13.176923   \n",
              "3        NaN  12Â°53'20\"  78Â°46'00\"  04-01-2010  384.519457  13.176923   \n",
              "4        NaN  12Â°59'45\"  78Â°54'40\"  05-01-2010  384.519457  13.176923   \n",
              "\n",
              "             Ca    Mg          Na         K          Cl         SO4         F  \\\n",
              "ï»¿                                                                             \n",
              "0     52.000000  37.0  143.000000  5.964226  170.000000  121.005792  0.626931   \n",
              "1     58.751131  78.0  186.750398  5.964226  189.032909  121.005792  0.626931   \n",
              "2    184.000000  73.0  239.000000  5.964226  189.032909  121.005792  0.626931   \n",
              "3     58.000000  21.0   60.000000  5.964226   39.000000  121.005792  0.626931   \n",
              "4     40.000000  38.0  115.000000  5.964226   46.000000  121.005792  0.626931   \n",
              "\n",
              "      pH        wqi quality  \n",
              "ï»¿                          \n",
              "0    8.0  62.016553    Poor  \n",
              "1    7.4  60.684614    Poor  \n",
              "2    7.4  62.258597    Poor  \n",
              "3    8.1  61.555553    Poor  \n",
              "4    8.0  61.693762    Poor  "
            ],
            "text/html": [
              "\n",
              "  <div id=\"df-8b2c0502-dfda-4642-8f81-20b43f7d6c64\">\n",
              "    <div class=\"colab-df-container\">\n",
              "      <div>\n",
              "<style scoped>\n",
              "    .dataframe tbody tr th:only-of-type {\n",
              "        vertical-align: middle;\n",
              "    }\n",
              "\n",
              "    .dataframe tbody tr th {\n",
              "        vertical-align: top;\n",
              "    }\n",
              "\n",
              "    .dataframe thead th {\n",
              "        text-align: right;\n",
              "    }\n",
              "</style>\n",
              "<table border=\"1\" class=\"dataframe\">\n",
              "  <thead>\n",
              "    <tr style=\"text-align: right;\">\n",
              "      <th></th>\n",
              "      <th>vellore</th>\n",
              "      <th>Latitude</th>\n",
              "      <th>Longitude</th>\n",
              "      <th>Date</th>\n",
              "      <th>TDS</th>\n",
              "      <th>Nitrates</th>\n",
              "      <th>Ca</th>\n",
              "      <th>Mg</th>\n",
              "      <th>Na</th>\n",
              "      <th>K</th>\n",
              "      <th>Cl</th>\n",
              "      <th>SO4</th>\n",
              "      <th>F</th>\n",
              "      <th>pH</th>\n",
              "      <th>wqi</th>\n",
              "      <th>quality</th>\n",
              "    </tr>\n",
              "    <tr>\n",
              "      <th>ï»¿</th>\n",
              "      <th></th>\n",
              "      <th></th>\n",
              "      <th></th>\n",
              "      <th></th>\n",
              "      <th></th>\n",
              "      <th></th>\n",
              "      <th></th>\n",
              "      <th></th>\n",
              "      <th></th>\n",
              "      <th></th>\n",
              "      <th></th>\n",
              "      <th></th>\n",
              "      <th></th>\n",
              "      <th></th>\n",
              "      <th></th>\n",
              "      <th></th>\n",
              "    </tr>\n",
              "  </thead>\n",
              "  <tbody>\n",
              "    <tr>\n",
              "      <th>0</th>\n",
              "      <td>NaN</td>\n",
              "      <td>12Â°56'40\"</td>\n",
              "      <td>78Â°52'10\"</td>\n",
              "      <td>01-01-2010</td>\n",
              "      <td>384.519457</td>\n",
              "      <td>13.176923</td>\n",
              "      <td>52.000000</td>\n",
              "      <td>37.0</td>\n",
              "      <td>143.000000</td>\n",
              "      <td>5.964226</td>\n",
              "      <td>170.000000</td>\n",
              "      <td>121.005792</td>\n",
              "      <td>0.626931</td>\n",
              "      <td>8.0</td>\n",
              "      <td>62.016553</td>\n",
              "      <td>Poor</td>\n",
              "    </tr>\n",
              "    <tr>\n",
              "      <th>1</th>\n",
              "      <td>NaN</td>\n",
              "      <td>12Â°58'05\"</td>\n",
              "      <td>79Â°12'25\"</td>\n",
              "      <td>02-01-2010</td>\n",
              "      <td>384.519457</td>\n",
              "      <td>13.176923</td>\n",
              "      <td>58.751131</td>\n",
              "      <td>78.0</td>\n",
              "      <td>186.750398</td>\n",
              "      <td>5.964226</td>\n",
              "      <td>189.032909</td>\n",
              "      <td>121.005792</td>\n",
              "      <td>0.626931</td>\n",
              "      <td>7.4</td>\n",
              "      <td>60.684614</td>\n",
              "      <td>Poor</td>\n",
              "    </tr>\n",
              "    <tr>\n",
              "      <th>2</th>\n",
              "      <td>NaN</td>\n",
              "      <td>13Â°06'17\"</td>\n",
              "      <td>79Â°29'45\"</td>\n",
              "      <td>03-01-2010</td>\n",
              "      <td>384.519457</td>\n",
              "      <td>13.176923</td>\n",
              "      <td>184.000000</td>\n",
              "      <td>73.0</td>\n",
              "      <td>239.000000</td>\n",
              "      <td>5.964226</td>\n",
              "      <td>189.032909</td>\n",
              "      <td>121.005792</td>\n",
              "      <td>0.626931</td>\n",
              "      <td>7.4</td>\n",
              "      <td>62.258597</td>\n",
              "      <td>Poor</td>\n",
              "    </tr>\n",
              "    <tr>\n",
              "      <th>3</th>\n",
              "      <td>NaN</td>\n",
              "      <td>12Â°53'20\"</td>\n",
              "      <td>78Â°46'00\"</td>\n",
              "      <td>04-01-2010</td>\n",
              "      <td>384.519457</td>\n",
              "      <td>13.176923</td>\n",
              "      <td>58.000000</td>\n",
              "      <td>21.0</td>\n",
              "      <td>60.000000</td>\n",
              "      <td>5.964226</td>\n",
              "      <td>39.000000</td>\n",
              "      <td>121.005792</td>\n",
              "      <td>0.626931</td>\n",
              "      <td>8.1</td>\n",
              "      <td>61.555553</td>\n",
              "      <td>Poor</td>\n",
              "    </tr>\n",
              "    <tr>\n",
              "      <th>4</th>\n",
              "      <td>NaN</td>\n",
              "      <td>12Â°59'45\"</td>\n",
              "      <td>78Â°54'40\"</td>\n",
              "      <td>05-01-2010</td>\n",
              "      <td>384.519457</td>\n",
              "      <td>13.176923</td>\n",
              "      <td>40.000000</td>\n",
              "      <td>38.0</td>\n",
              "      <td>115.000000</td>\n",
              "      <td>5.964226</td>\n",
              "      <td>46.000000</td>\n",
              "      <td>121.005792</td>\n",
              "      <td>0.626931</td>\n",
              "      <td>8.0</td>\n",
              "      <td>61.693762</td>\n",
              "      <td>Poor</td>\n",
              "    </tr>\n",
              "  </tbody>\n",
              "</table>\n",
              "</div>\n",
              "      <button class=\"colab-df-convert\" onclick=\"convertToInteractive('df-8b2c0502-dfda-4642-8f81-20b43f7d6c64')\"\n",
              "              title=\"Convert this dataframe to an interactive table.\"\n",
              "              style=\"display:none;\">\n",
              "        \n",
              "  <svg xmlns=\"http://www.w3.org/2000/svg\" height=\"24px\"viewBox=\"0 0 24 24\"\n",
              "       width=\"24px\">\n",
              "    <path d=\"M0 0h24v24H0V0z\" fill=\"none\"/>\n",
              "    <path d=\"M18.56 5.44l.94 2.06.94-2.06 2.06-.94-2.06-.94-.94-2.06-.94 2.06-2.06.94zm-11 1L8.5 8.5l.94-2.06 2.06-.94-2.06-.94L8.5 2.5l-.94 2.06-2.06.94zm10 10l.94 2.06.94-2.06 2.06-.94-2.06-.94-.94-2.06-.94 2.06-2.06.94z\"/><path d=\"M17.41 7.96l-1.37-1.37c-.4-.4-.92-.59-1.43-.59-.52 0-1.04.2-1.43.59L10.3 9.45l-7.72 7.72c-.78.78-.78 2.05 0 2.83L4 21.41c.39.39.9.59 1.41.59.51 0 1.02-.2 1.41-.59l7.78-7.78 2.81-2.81c.8-.78.8-2.07 0-2.86zM5.41 20L4 18.59l7.72-7.72 1.47 1.35L5.41 20z\"/>\n",
              "  </svg>\n",
              "      </button>\n",
              "      \n",
              "  <style>\n",
              "    .colab-df-container {\n",
              "      display:flex;\n",
              "      flex-wrap:wrap;\n",
              "      gap: 12px;\n",
              "    }\n",
              "\n",
              "    .colab-df-convert {\n",
              "      background-color: #E8F0FE;\n",
              "      border: none;\n",
              "      border-radius: 50%;\n",
              "      cursor: pointer;\n",
              "      display: none;\n",
              "      fill: #1967D2;\n",
              "      height: 32px;\n",
              "      padding: 0 0 0 0;\n",
              "      width: 32px;\n",
              "    }\n",
              "\n",
              "    .colab-df-convert:hover {\n",
              "      background-color: #E2EBFA;\n",
              "      box-shadow: 0px 1px 2px rgba(60, 64, 67, 0.3), 0px 1px 3px 1px rgba(60, 64, 67, 0.15);\n",
              "      fill: #174EA6;\n",
              "    }\n",
              "\n",
              "    [theme=dark] .colab-df-convert {\n",
              "      background-color: #3B4455;\n",
              "      fill: #D2E3FC;\n",
              "    }\n",
              "\n",
              "    [theme=dark] .colab-df-convert:hover {\n",
              "      background-color: #434B5C;\n",
              "      box-shadow: 0px 1px 3px 1px rgba(0, 0, 0, 0.15);\n",
              "      filter: drop-shadow(0px 1px 2px rgba(0, 0, 0, 0.3));\n",
              "      fill: #FFFFFF;\n",
              "    }\n",
              "  </style>\n",
              "\n",
              "      <script>\n",
              "        const buttonEl =\n",
              "          document.querySelector('#df-8b2c0502-dfda-4642-8f81-20b43f7d6c64 button.colab-df-convert');\n",
              "        buttonEl.style.display =\n",
              "          google.colab.kernel.accessAllowed ? 'block' : 'none';\n",
              "\n",
              "        async function convertToInteractive(key) {\n",
              "          const element = document.querySelector('#df-8b2c0502-dfda-4642-8f81-20b43f7d6c64');\n",
              "          const dataTable =\n",
              "            await google.colab.kernel.invokeFunction('convertToInteractive',\n",
              "                                                     [key], {});\n",
              "          if (!dataTable) return;\n",
              "\n",
              "          const docLinkHtml = 'Like what you see? Visit the ' +\n",
              "            '<a target=\"_blank\" href=https://colab.research.google.com/notebooks/data_table.ipynb>data table notebook</a>'\n",
              "            + ' to learn more about interactive tables.';\n",
              "          element.innerHTML = '';\n",
              "          dataTable['output_type'] = 'display_data';\n",
              "          await google.colab.output.renderOutput(dataTable, element);\n",
              "          const docLink = document.createElement('div');\n",
              "          docLink.innerHTML = docLinkHtml;\n",
              "          element.appendChild(docLink);\n",
              "        }\n",
              "      </script>\n",
              "    </div>\n",
              "  </div>\n",
              "  "
            ]
          },
          "metadata": {},
          "execution_count": 2
        }
      ]
    },
    {
      "cell_type": "code",
      "source": [
        "df1=df[df['wqi']<=80]\n",
        "df1=df1[df1['wqi']>=40 ]"
      ],
      "metadata": {
        "id": "ch3Ew8P5ogV8"
      },
      "execution_count": null,
      "outputs": []
    },
    {
      "cell_type": "code",
      "source": [
        "df.shape,df1.shape"
      ],
      "metadata": {
        "colab": {
          "base_uri": "https://localhost:8080/"
        },
        "id": "_qgGKQvHo12V",
        "outputId": "8c19adac-a644-42fc-d255-96deec10eaa3"
      },
      "execution_count": null,
      "outputs": [
        {
          "output_type": "execute_result",
          "data": {
            "text/plain": [
              "((3957, 16), (2678, 16))"
            ]
          },
          "metadata": {},
          "execution_count": 4
        }
      ]
    },
    {
      "cell_type": "code",
      "source": [
        "time = pd.to_datetime(df.Date, dayfirst=True)\n",
        "series = df['wqi'][5::6]\n",
        "series.index = time[5::6]"
      ],
      "metadata": {
        "id": "poJfbiH495jU"
      },
      "execution_count": null,
      "outputs": []
    },
    {
      "cell_type": "code",
      "source": [
        "time"
      ],
      "metadata": {
        "colab": {
          "base_uri": "https://localhost:8080/"
        },
        "id": "YZnd18aZ-FyU",
        "outputId": "f7912e91-a7dc-4f9c-8ded-74ad4183380a"
      },
      "execution_count": null,
      "outputs": [
        {
          "output_type": "execute_result",
          "data": {
            "text/plain": [
              "ï»¿\n",
              "0      2010-01-01\n",
              "1      2010-01-02\n",
              "2      2010-01-03\n",
              "3      2010-01-04\n",
              "4      2010-01-05\n",
              "          ...    \n",
              "3952   2020-10-27\n",
              "3953   2020-10-28\n",
              "3954   2020-10-29\n",
              "3955   2020-10-30\n",
              "3956   2020-10-31\n",
              "Name: Date, Length: 3957, dtype: datetime64[ns]"
            ]
          },
          "metadata": {},
          "execution_count": 7
        }
      ]
    },
    {
      "cell_type": "code",
      "source": [
        "import numpy as np\n",
        "\n",
        "# function for generating the lagged matrix\n",
        "def split_sequence(sequence, window_size):\n",
        "    X = []\n",
        "    y = []\n",
        "    # for all indexes\n",
        "    for i in range(len(sequence)):\n",
        "        end_idx = i + window_size\n",
        "        # exit condition\n",
        "        if end_idx > len(sequence) - 1:\n",
        "            break\n",
        "        # get X and Y values\n",
        "        seq_x, seq_y = sequence[i:end_idx], sequence[end_idx]\n",
        "        X.append(seq_x)\n",
        "        y.append(seq_y)\n",
        "    return np.array(X), np.array(y)\n",
        "\n",
        "\n",
        "#train = series[:-int(len(series)/10)]\n",
        "test = series[-int(len(series)/10):]\n",
        "train=series\n",
        "\n",
        "X_train, y_train = split_sequence(train, window_size=24)\n",
        "X_test, y_test = split_sequence(test, window_size=24)"
      ],
      "metadata": {
        "id": "3WsgqKkz-yAd"
      },
      "execution_count": null,
      "outputs": []
    },
    {
      "cell_type": "code",
      "source": [
        "import statsmodels.api as sm\n",
        "\n",
        "# train Ordinary Least Squares model\n",
        "X_train = sm.add_constant(X_train)\n",
        "model = sm.OLS(y_train, X_train)\n",
        "result = model.fit()\n",
        "\n",
        "print(result.summary())"
      ],
      "metadata": {
        "id": "1mWlQGZd_FO7",
        "outputId": "851d0990-b998-4589-8ace-318336cd198a",
        "colab": {
          "base_uri": "https://localhost:8080/"
        }
      },
      "execution_count": null,
      "outputs": [
        {
          "output_type": "stream",
          "name": "stderr",
          "text": [
            "/usr/local/lib/python3.7/dist-packages/statsmodels/tools/_testing.py:19: FutureWarning: pandas.util.testing is deprecated. Use the functions in the public API at pandas.testing instead.\n",
            "  import pandas.util.testing as tm\n"
          ]
        },
        {
          "output_type": "stream",
          "name": "stdout",
          "text": [
            "                            OLS Regression Results                            \n",
            "==============================================================================\n",
            "Dep. Variable:                      y   R-squared:                       0.094\n",
            "Model:                            OLS   Adj. R-squared:                  0.059\n",
            "Method:                 Least Squares   F-statistic:                     2.650\n",
            "Date:                Sat, 23 Apr 2022   Prob (F-statistic):           3.83e-05\n",
            "Time:                        10:10:50   Log-Likelihood:                -2912.2\n",
            "No. Observations:                 635   AIC:                             5874.\n",
            "Df Residuals:                     610   BIC:                             5986.\n",
            "Df Model:                          24                                         \n",
            "Covariance Type:            nonrobust                                         \n",
            "==============================================================================\n",
            "                 coef    std err          t      P>|t|      [0.025      0.975]\n",
            "------------------------------------------------------------------------------\n",
            "const         52.1680     10.179      5.125      0.000      32.177      72.159\n",
            "x1             0.1005      0.041      2.428      0.015       0.019       0.182\n",
            "x2             0.0062      0.042      0.149      0.882      -0.076       0.088\n",
            "x3            -0.0807      0.042     -1.937      0.053      -0.162       0.001\n",
            "x4            -0.0120      0.042     -0.286      0.775      -0.094       0.070\n",
            "x5             0.0218      0.042      0.522      0.602      -0.060       0.104\n",
            "x6             0.0036      0.042      0.087      0.930      -0.078       0.085\n",
            "x7            -0.0538      0.042     -1.292      0.197      -0.135       0.028\n",
            "x8            -0.0528      0.042     -1.271      0.204      -0.134       0.029\n",
            "x9             0.0296      0.042      0.709      0.479      -0.052       0.111\n",
            "x10           -0.0517      0.042     -1.243      0.214      -0.134       0.030\n",
            "x11            0.0456      0.042      1.098      0.273      -0.036       0.127\n",
            "x12            0.0229      0.042      0.550      0.582      -0.059       0.104\n",
            "x13            0.0235      0.042      0.566      0.572      -0.058       0.105\n",
            "x14            0.0118      0.042      0.284      0.776      -0.070       0.093\n",
            "x15           -0.0393      0.041     -0.947      0.344      -0.121       0.042\n",
            "x16           -0.0090      0.041     -0.216      0.829      -0.090       0.073\n",
            "x17           -0.0824      0.041     -1.996      0.046      -0.163      -0.001\n",
            "x18           -0.0415      0.041     -1.005      0.315      -0.123       0.040\n",
            "x19           -0.0088      0.041     -0.212      0.832      -0.090       0.072\n",
            "x20            0.0073      0.041      0.176      0.860      -0.074       0.088\n",
            "x21            0.0046      0.041      0.111      0.912      -0.076       0.086\n",
            "x22            0.1030      0.041      2.514      0.012       0.023       0.183\n",
            "x23            0.0838      0.041      2.052      0.041       0.004       0.164\n",
            "x24            0.1583      0.040      3.928      0.000       0.079       0.237\n",
            "==============================================================================\n",
            "Omnibus:                      143.253   Durbin-Watson:                   1.990\n",
            "Prob(Omnibus):                  0.000   Jarque-Bera (JB):              482.472\n",
            "Skew:                           1.042   Prob(JB):                    1.71e-105\n",
            "Kurtosis:                       6.728   Cond. No.                     3.35e+03\n",
            "==============================================================================\n",
            "\n",
            "Warnings:\n",
            "[1] Standard Errors assume that the covariance matrix of the errors is correctly specified.\n",
            "[2] The condition number is large, 3.35e+03. This might indicate that there are\n",
            "strong multicollinearity or other numerical problems.\n"
          ]
        }
      ]
    },
    {
      "cell_type": "code",
      "source": [
        "from scipy import stats\n",
        "\n",
        "# get values of the residuals\n",
        "residual = result.resid\n",
        "\n",
        "# run tests and get the p values\n",
        "print('p value of Jarque-Bera test is: ', stats.jarque_bera(residual)[1])\n",
        "print('p value of Shapiro-Wilk test is: ', stats.shapiro(residual)[1])\n",
        "print('p value of Kolmogorov-Smirnov test is: ', stats.kstest(residual, 'norm')[1])"
      ],
      "metadata": {
        "colab": {
          "base_uri": "https://localhost:8080/"
        },
        "id": "97NvBZmj_SLa",
        "outputId": "722b65cb-a7dc-4813-b1b6-6e35cd1abe1c"
      },
      "execution_count": null,
      "outputs": [
        {
          "output_type": "stream",
          "name": "stdout",
          "text": [
            "p value of Jarque-Bera test is:  0.0\n",
            "p value of Shapiro-Wilk test is:  2.4059745873631787e-16\n",
            "p value of Kolmogorov-Smirnov test is:  3.8135887594362627e-109\n"
          ]
        }
      ]
    },
    {
      "cell_type": "code",
      "source": [
        "import statsmodels.stats.api as sms\n",
        "\n",
        "print('p value of Breusch–Pagan test is: ', sms.het_breuschpagan(result.resid, result.model.exog)[1])\n",
        "print('p value of White test is: ', sms.het_white(result.resid, result.model.exog)[1])"
      ],
      "metadata": {
        "colab": {
          "base_uri": "https://localhost:8080/"
        },
        "id": "T_e4QeNb_a5K",
        "outputId": "74b8bbbd-5a4b-481f-d0c5-26c4b10d5864"
      },
      "execution_count": null,
      "outputs": [
        {
          "output_type": "stream",
          "name": "stdout",
          "text": [
            "p value of Breusch–Pagan test is:  0.35056299591989637\n",
            "p value of White test is:  2.706811644005601e-13\n"
          ]
        }
      ]
    },
    {
      "cell_type": "code",
      "source": [
        "import statsmodels.api as sm\n",
        "\n",
        "# train Ordinary Least Squares model\n",
        "X_train = sm.add_constant(X_train)\n",
        "model = sm.GLS(y_train, X_train)\n",
        "result = model.fit()\n",
        "\n",
        "print(result.summary())"
      ],
      "metadata": {
        "id": "1L7Bp7SI_dXE"
      },
      "execution_count": null,
      "outputs": []
    },
    {
      "cell_type": "code",
      "source": [
        "X_test, y_test = split_sequence(test, window_size=24)"
      ],
      "metadata": {
        "id": "D0eoixMqARL9"
      },
      "execution_count": null,
      "outputs": []
    },
    {
      "cell_type": "code",
      "source": [
        "X_test = sm.add_constant(X_test)\n",
        "\n",
        "y_train_preds = result.predict(X_train)\n",
        "y_test_preds = result.predict(X_test)\n",
        "\n",
        "from matplotlib import pyplot as plt\n",
        "\n",
        "# indexes start from 24 due to the window size we chose\n",
        "plt.plot(pd.Series(y_train, index=train[24:].index), label='train values')\n",
        "plt.plot(pd.Series(y_test, index=test[24:].index), label='test values')\n",
        "plt.plot(pd.Series(y_train_preds, index=train[24:].index), label='train predictions')\n",
        "plt.plot(pd.Series(y_test_preds, index=test[24:].index), label='test predictions')\n",
        "plt.xlabel('Date time')\n",
        "plt.ylabel('WQI')\n",
        "plt.title('Forecasts')\n",
        "plt.legend()\n",
        "plt.show()"
      ],
      "metadata": {
        "colab": {
          "base_uri": "https://localhost:8080/",
          "height": 295
        },
        "id": "KYlK9Puv_lfn",
        "outputId": "6609994d-daf2-4d30-a4bf-9c8cac77d1ce"
      },
      "execution_count": null,
      "outputs": [
        {
          "output_type": "display_data",
          "data": {
            "text/plain": [
              "<Figure size 432x288 with 1 Axes>"
            ],
            "image/png": "[encoded data removed]"
          },
          "metadata": {
            "needs_background": "light"
          }
        }
      ]
    },
    {
      "cell_type": "code",
      "source": [
        "#pd.Series(y_test_preds).plot()\n",
        "X_test"
      ],
      "metadata": {
        "colab": {
          "base_uri": "https://localhost:8080/"
        },
        "id": "dBy4h7wXq17c",
        "outputId": "302eaac9-4e41-47ca-ce38-56e7131861cd"
      },
      "execution_count": null,
      "outputs": [
        {
          "output_type": "execute_result",
          "data": {
            "text/plain": [
              "array([[  1.        ,  34.63765092,  75.26935025, ...,  79.19452854,\n",
              "         47.85646298,  29.96139293],\n",
              "       [  1.        ,  75.26935025,  76.85606156, ...,  47.85646298,\n",
              "         29.96139293,  24.97232072],\n",
              "       [  1.        ,  76.85606156, 104.3458151 , ...,  29.96139293,\n",
              "         24.97232072,  92.95357661],\n",
              "       ...,\n",
              "       [  1.        ,  62.22848656, 134.588141  , ...,  76.58466789,\n",
              "        100.8135655 , 104.0756171 ],\n",
              "       [  1.        , 134.588141  ,  66.76816087, ..., 100.8135655 ,\n",
              "        104.0756171 ,  24.92895639],\n",
              "       [  1.        ,  66.76816087, 100.7431074 , ..., 104.0756171 ,\n",
              "         24.92895639,  68.90764187]])"
            ]
          },
          "metadata": {},
          "execution_count": 15
        }
      ]
    },
    {
      "cell_type": "markdown",
      "source": [
        "#RNN"
      ],
      "metadata": {
        "id": "DdtQ5AR8__Wk"
      }
    },
    {
      "cell_type": "code",
      "source": [
        "import pandas as pd\n",
        "df = pd.read_csv('/content/revised_vellore with dates.csv', encoding= 'unicode_escape',index_col=0)\n",
        "time = pd.to_datetime(df.Date, dayfirst=True)\n",
        "series = df['wqi'][5::6]\n",
        "series.index = time[5::6]"
      ],
      "metadata": {
        "id": "Qp-lhmjDBRJr"
      },
      "execution_count": null,
      "outputs": []
    },
    {
      "cell_type": "code",
      "source": [
        "# train test split\n",
        "train1 = series\n",
        "train=series[:-int(len(series)/10)]\n",
        "train_idx = train.index\n",
        "train1_idx=train1.index\n",
        "test = series[-int(len(series)/10):]\n",
        "test_idx = test.index"
      ],
      "metadata": {
        "id": "Drird6Bt_8lU"
      },
      "execution_count": null,
      "outputs": []
    },
    {
      "cell_type": "code",
      "source": [
        "from sklearn.preprocessing import StandardScaler\n",
        "\n",
        "scaler = StandardScaler()\n",
        "train = pd.Series(scaler.fit_transform(train.values.reshape(-1, 1))[:, 0], index=train_idx)\n",
        "train1=pd.Series(scaler.fit_transform(train1.values.reshape(-1, 1))[:, 0], index=train1_idx)\n",
        "test = pd.Series(scaler.transform(test.values.reshape(-1, 1))[:, 0], index=test_idx)"
      ],
      "metadata": {
        "id": "GpK8vl_oCBU5"
      },
      "execution_count": null,
      "outputs": []
    },
    {
      "cell_type": "code",
      "source": [
        "window_size = 24\n",
        "\n",
        "X_train, y_train = split_sequence(train, window_size=window_size)\n",
        "X_train1, y_train1 = split_sequence(train1, window_size=window_size)\n",
        "X_test, y_test = split_sequence(test, window_size=window_size)"
      ],
      "metadata": {
        "id": "UXkd1NaFDAcS"
      },
      "execution_count": null,
      "outputs": []
    },
    {
      "cell_type": "code",
      "source": [
        "import torch\n",
        "from torch.utils.data import TensorDataset, DataLoader\n",
        "\n",
        "\n",
        "# convert train and test data to tensors\n",
        "X_train = torch.tensor(X_train, dtype=torch.float)\n",
        "y_train = torch.tensor(y_train, dtype=torch.float)\n",
        "X_test = torch.tensor(X_test, dtype=torch.float)\n",
        "y_test = torch.tensor(y_test, dtype=torch.float)\n",
        "\n",
        "# use torch tensor datasets\n",
        "train_data = TensorDataset(X_train, y_train)\n",
        "test_data = TensorDataset(X_test, y_test)\n",
        "\n",
        "# get data loaders\n",
        "batch_size = 32\n",
        "train_dataloader = DataLoader(train_data, shuffle=True, batch_size=batch_size)\n",
        "test_dataloader = DataLoader(test_data, shuffle=False, batch_size=batch_size)\n"
      ],
      "metadata": {
        "id": "Dr39qYwZDGz4"
      },
      "execution_count": null,
      "outputs": []
    },
    {
      "cell_type": "code",
      "source": [
        "from torch import nn\n",
        "\n",
        "\n",
        "class DenseLSTM(nn.Module):\n",
        "    def __init__(self, input_dim, hidden_dim, lstm_layers=1, bidirectional=False, dense=False):\n",
        "        super(DenseLSTM, self).__init__()\n",
        "        self.input_dim = input_dim\n",
        "        self.hidden_dim = hidden_dim\n",
        "        self.layers = lstm_layers\n",
        "        self.bidirectional = bidirectional\n",
        "        self.dense = dense\n",
        "        # define the LSTM layer\n",
        "        self.lstm = nn.LSTM(input_size=self.input_dim, \n",
        "                            hidden_size=self.hidden_dim, \n",
        "                            num_layers=self.layers,\n",
        "                            bidirectional=self.bidirectional)\n",
        "        self.act1 = nn.ReLU()\n",
        "        # change linear layer inputs depending on if lstm is bidrectional\n",
        "        if not bidirectional:\n",
        "            self.linear = nn.Linear(self.hidden_dim, self.hidden_dim)\n",
        "        else:\n",
        "            self.linear = nn.Linear(self.hidden_dim * 2, self.hidden_dim)\n",
        "        self.act2 = nn.ReLU()\n",
        "        # change linear layer inputs depending on if lstm is bidrectional and extra dense layer isn't added\n",
        "        if bidirectional and not dense:\n",
        "            self.final = nn.Linear(self.hidden_dim * 2, 1)\n",
        "        else:\n",
        "            self.final = nn.Linear(self.hidden_dim, 1)\n",
        "\n",
        "\n",
        "    def forward(self, inputs, labels=None):\n",
        "        out = inputs.unsqueeze(1)\n",
        "        out, h = self.lstm(out)\n",
        "        out = self.act1(out)\n",
        "        if self.dense:\n",
        "            out = self.linear(out)\n",
        "            out = self.act2(out)\n",
        "        out = self.final(out)\n",
        "        return out\n",
        "\n"
      ],
      "metadata": {
        "id": "h22OhueKDI4K"
      },
      "execution_count": null,
      "outputs": []
    },
    {
      "cell_type": "markdown",
      "source": [
        "training function"
      ],
      "metadata": {
        "id": "KTr6FQ-UDOYm"
      }
    },
    {
      "cell_type": "code",
      "source": [
        "import time\n",
        "\n",
        "def fit(model, optimizer, criterion):\n",
        "    print(\"{:<8} {:<25} {:<25} {:<25}\".format('Epoch', \n",
        "                                          'Train Loss', \n",
        "                                          'Test Loss', \n",
        "                                          'Time (seconds)'))\n",
        "    for epoch in range(epochs):\n",
        "        model.train()\n",
        "        start = time.time()\n",
        "        epoch_loss = []\n",
        "        # for batch in train data\n",
        "        for step, batch in enumerate(train_dataloader):\n",
        "            # make gradient zero to avoid accumulation\n",
        "            model.zero_grad()\n",
        "            batch = tuple(t.to(device) for t in batch)\n",
        "            inputs, labels = batch\n",
        "            # get predictions\n",
        "            out = model(inputs)\n",
        "            out.to(device)\n",
        "            # get loss\n",
        "            loss = criterion(out, labels)\n",
        "            epoch_loss.append(loss.float().detach().cpu().numpy().mean())\n",
        "            # backpropagate\n",
        "            loss.backward()\n",
        "            optimizer.step()\n",
        "        test_epoch_loss = []\n",
        "        end = time.time()\n",
        "        model.eval()\n",
        "        # for batch in validation data\n",
        "        for step, batch in enumerate(test_dataloader):\n",
        "            batch = tuple(t.to(device) for t in batch)\n",
        "            inputs, labels = batch\n",
        "            # get predictions\n",
        "            out = model(inputs)\n",
        "            # get loss\n",
        "            loss = criterion(out, labels)     \n",
        "            test_epoch_loss.append(loss.float().detach().cpu().numpy().mean())\n",
        "        print(\"{:<8} {:<25} {:<25} {:<25}\".format(epoch+1, \n",
        "                                                  np.mean(epoch_loss), \n",
        "                                                  np.mean(test_epoch_loss), \n",
        "                                                  end-start))\n",
        "\n",
        "\n"
      ],
      "metadata": {
        "id": "_saxuN3ODLMc"
      },
      "execution_count": null,
      "outputs": []
    },
    {
      "cell_type": "markdown",
      "source": [
        "Now we can begin the training. We define the hidden layer sizes, epochs, loss function, and which optimizer we will use. Then we train the model and plot the predictions"
      ],
      "metadata": {
        "id": "yyqeDGXhDVqq"
      }
    },
    {
      "cell_type": "code",
      "source": [
        "device = torch.device(type='cuda')\n",
        "\n",
        "hidden_dim = 32\n",
        "epochs = 10\n",
        "\n",
        "# vanilla LSTM\n",
        "model = DenseLSTM(window_size, hidden_dim, lstm_layers=1, bidirectional=False, dense=False)\n",
        "model.to(device)\n",
        "\n",
        "# define optimizer and loss function\n",
        "optimizer = torch.optim.Adam(model.parameters())\n",
        "criterion = nn.MSELoss()\n",
        "\n",
        "# initate training\n",
        "fit(model, optimizer, criterion)\n",
        "\n",
        "# get predictions on validation set\n",
        "model.eval()\n",
        "preds = []\n",
        "for step, batch in enumerate(test_dataloader):\n",
        "    batch = tuple(t.to(device) for t in batch)\n",
        "    inputs, labels = batch\n",
        "    out = model(inputs)\n",
        "    preds.append(out)\n",
        "\n",
        "preds = [x.float().detach().cpu().numpy() for x in preds]\n",
        "preds = np.array([y for x in preds for y in x])\n",
        "\n",
        "# plot data and predictions and applying inverse scaling on the data\n",
        "plt.plot(pd.Series(scaler.inverse_transform(y_train.float().detach().cpu().numpy().reshape(-1, 1))[:, 0], index=train[window_size:].index), label='train values')\n",
        "plt.plot(pd.Series(scaler.inverse_transform(y_test.float().detach().cpu().numpy().reshape(-1, 1))[:, 0], index=test[:-window_size].index), label='test values')\n",
        "plt.plot(pd.Series(scaler.inverse_transform(preds.reshape(-1, 1))[:, 0], index=test[:-window_size].index), label='test predictions')\n",
        "plt.xlabel('Date time')\n",
        "plt.ylabel('WQI')\n",
        "plt.title('Vanilla LSTM Forecasts')\n",
        "plt.legend()\n",
        "plt.show()\n"
      ],
      "metadata": {
        "id": "yP3o6GjPDRei",
        "outputId": "7846781f-3cf2-45a9-97a0-2e33faed32dd",
        "colab": {
          "base_uri": "https://localhost:8080/",
          "height": 610
        }
      },
      "execution_count": null,
      "outputs": [
        {
          "output_type": "stream",
          "name": "stdout",
          "text": [
            "Epoch    Train Loss                Test Loss                 Time (seconds)           \n",
            "1        1.046974539756775         1.8082035779953003        0.18414592742919922      \n"
          ]
        },
        {
          "output_type": "stream",
          "name": "stderr",
          "text": [
            "/usr/local/lib/python3.7/dist-packages/torch/nn/modules/loss.py:520: UserWarning: Using a target size (torch.Size([32])) that is different to the input size (torch.Size([32, 1, 1])). This will likely lead to incorrect results due to broadcasting. Please ensure they have the same size.\n",
            "  return F.mse_loss(input, target, reduction=self.reduction)\n",
            "/usr/local/lib/python3.7/dist-packages/torch/nn/modules/loss.py:520: UserWarning: Using a target size (torch.Size([26])) that is different to the input size (torch.Size([26, 1, 1])). This will likely lead to incorrect results due to broadcasting. Please ensure they have the same size.\n",
            "  return F.mse_loss(input, target, reduction=self.reduction)\n",
            "/usr/local/lib/python3.7/dist-packages/torch/nn/modules/loss.py:520: UserWarning: Using a target size (torch.Size([9])) that is different to the input size (torch.Size([9, 1, 1])). This will likely lead to incorrect results due to broadcasting. Please ensure they have the same size.\n",
            "  return F.mse_loss(input, target, reduction=self.reduction)\n"
          ]
        },
        {
          "output_type": "stream",
          "name": "stdout",
          "text": [
            "2        1.0376765727996826        1.7797622680664062        0.07451343536376953      \n",
            "3        1.0384173393249512        1.7676736116409302        0.08008170127868652      \n",
            "4        1.045141339302063         1.771907925605774         0.06881976127624512      \n",
            "5        1.0388882160186768        1.7734795808792114        0.07129955291748047      \n",
            "6        1.068184494972229         1.7705328464508057        0.07453656196594238      \n",
            "7        1.0422186851501465        1.7520087957382202        0.06786417961120605      \n",
            "8        1.0374045372009277        1.7515161037445068        0.07600545883178711      \n",
            "9        1.0393301248550415        1.750108003616333         0.06799674034118652      \n",
            "10       1.0344767570495605        1.7575359344482422        0.07505440711975098      \n"
          ]
        },
        {
          "output_type": "display_data",
          "data": {
            "text/plain": [
              "<Figure size 432x288 with 1 Axes>"
            ],
            "image/png": "[encoded data removed]"
          },
          "metadata": {
            "needs_background": "light"
          }
        }
      ]
    },
    {
      "cell_type": "markdown",
      "source": [
        "Stacked LSTM"
      ],
      "metadata": {
        "id": "xH8GEi9bgoIA"
      }
    },
    {
      "cell_type": "code",
      "source": [
        "device = torch.device(type='cuda')\n",
        "\n",
        "hidden_dim = 32\n",
        "epochs = 5\n",
        "\n",
        "# Stacked LSTM\n",
        "model = DenseLSTM(window_size, hidden_dim, lstm_layers=2, bidirectional=False, dense=False)\n",
        "model.to(device)\n",
        "\n",
        "# define optimizer and loss function\n",
        "optimizer = torch.optim.Adam(model.parameters())\n",
        "criterion = nn.MSELoss()\n",
        "\n",
        "# initate training\n",
        "fit(model, optimizer, criterion)\n",
        "\n",
        "# get predictions on validation set\n",
        "model.eval()\n",
        "preds = []\n",
        "for step, batch in enumerate(test_dataloader):\n",
        "    batch = tuple(t.to(device) for t in batch)\n",
        "    inputs, labels = batch\n",
        "    out = model(inputs)\n",
        "    preds.append(out)\n",
        "\n",
        "preds = [x.float().detach().cpu().numpy() for x in preds]\n",
        "preds = np.array([y for x in preds for y in x])\n",
        "\n",
        "# plot data and predictions and applying inverse scaling on the data\n",
        "plt.plot(pd.Series(scaler.inverse_transform(y_train1.float().detach().cpu().numpy().reshape(-1, 1))[:, 0], index=train[window_size:].index), label='train values')\n",
        "plt.plot(pd.Series(scaler.inverse_transform(y_test.float().detach().cpu().numpy().reshape(-1, 1))[:, 0], index=test[:-window_size].index), label='test values')\n",
        "plt.plot(pd.Series(scaler.inverse_transform(preds.reshape(-1, 1))[:, 0], index=test[:-window_size].index), label='test predictions')\n",
        "plt.xlabel('Date time')\n",
        "plt.ylabel('WQI')\n",
        "plt.title('Vanilla LSTM Forecasts')\n",
        "plt.legend()\n",
        "plt.show()"
      ],
      "metadata": {
        "id": "Tus_n3mADeDw"
      },
      "execution_count": null,
      "outputs": []
    },
    {
      "cell_type": "code",
      "source": [
        "device = torch.device(type='cpu')\n",
        "\n",
        "hidden_dim = 32\n",
        "epochs = 5\n",
        "\n",
        "# Biderctional LSTM\n",
        "model = DenseLSTM(window_size, hidden_dim, lstm_layers=2, bidirectional=True, dense=False)\n",
        "model.to(device)\n",
        "\n",
        "# define optimizer and loss function\n",
        "optimizer = torch.optim.Adam(model.parameters())\n",
        "criterion = nn.MSELoss()\n",
        "\n",
        "# initate training\n",
        "fit(model, optimizer, criterion)\n",
        "\n",
        "# get predictions on validation set\n",
        "model.eval()\n",
        "preds = []\n",
        "for step, batch in enumerate(test_dataloader):\n",
        "    batch = tuple(t.to(device) for t in batch)\n",
        "    inputs, labels = batch\n",
        "    out = model(inputs)\n",
        "    preds.append(out)\n",
        "\n",
        "preds = [x.float().detach().cpu().numpy() for x in preds]\n",
        "preds = np.array([y for x in preds for y in x])\n",
        "\n",
        "# plot data and predictions and applying inverse scaling on the data\n",
        "plt.plot(pd.Series(scaler.inverse_transform(y_train1.float().detach().cpu().numpy().reshape(-1, 1))[:, 0], index=train[window_size:].index), label='train values')\n",
        "plt.plot(pd.Series(scaler.inverse_transform(y_test.float().detach().cpu().numpy().reshape(-1, 1))[:, 0], index=test[:-window_size].index), label='test values')\n",
        "plt.plot(pd.Series(scaler.inverse_transform(preds.reshape(-1, 1))[:, 0], index=test[:-window_size].index), label='test predictions')\n",
        "plt.xlabel('Date time')\n",
        "plt.ylabel('WQI')\n",
        "plt.title('Vanilla LSTM Forecasts')\n",
        "plt.legend()\n",
        "plt.show()"
      ],
      "metadata": {
        "id": "_GzlVa6UELKi"
      },
      "execution_count": null,
      "outputs": []
    },
    {
      "cell_type": "code",
      "source": [
        "device = torch.device(type='cpu')\n",
        "\n",
        "hidden_dim = 32\n",
        "epochs = 50\n",
        "\n",
        "# Stacked Bidirectional LSTMs with a fully-connected layers\n",
        "model = DenseLSTM(window_size, hidden_dim, lstm_layers=2, bidirectional=True, dense=True)\n",
        "model.to(device)\n",
        "\n",
        "# define optimizer and loss function\n",
        "optimizer = torch.optim.Adam(model.parameters())\n",
        "criterion = nn.MSELoss()\n",
        "\n",
        "# initate training\n",
        "fit(model, optimizer, criterion)\n",
        "\n",
        "# get predictions on validation set\n",
        "model.eval()\n",
        "preds = []\n",
        "for step, batch in enumerate(test_dataloader):\n",
        "    batch = tuple(t.to(device) for t in batch)\n",
        "    inputs, labels = batch\n",
        "    out = model(inputs)\n",
        "    preds.append(out)\n",
        "\n",
        "preds = [x.float().detach().cpu().numpy() for x in preds]\n",
        "preds = np.array([y for x in preds for y in x])\n",
        "\n",
        "# plot data and predictions and applying inverse scaling on the data\n",
        "plt.plot(pd.Series(scaler.inverse_transform(y_train1.float().detach().cpu().numpy().reshape(-1, 1))[:, 0], index=train[window_size:].index), label='train values')\n",
        "plt.plot(pd.Series(scaler.inverse_transform(y_test.float().detach().cpu().numpy().reshape(-1, 1))[:, 0], index=test[:-window_size].index), label='test values')\n",
        "plt.plot(pd.Series(scaler.inverse_transform(preds.reshape(-1, 1))[:, 0], index=test[:-window_size].index), label='test predictions')\n",
        "plt.xlabel('Date time')\n",
        "plt.ylabel('WQI')\n",
        "plt.title('Vanilla LSTM Forecasts')\n",
        "plt.legend()\n",
        "plt.show()"
      ],
      "metadata": {
        "id": "NxfFAnqCEpD5"
      },
      "execution_count": null,
      "outputs": []
    },
    {
      "cell_type": "code",
      "source": [
        ""
      ],
      "metadata": {
        "id": "q2slWdGVE536"
      },
      "execution_count": null,
      "outputs": []
    }
  ]
}