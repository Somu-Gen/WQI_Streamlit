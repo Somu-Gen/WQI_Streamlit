{
  "nbformat": 4,
  "nbformat_minor": 0,
  "metadata": {
    "colab": {
      "name": "Water Quality classifier .ipynb",
      "provenance": [],
      "collapsed_sections": [],
      "include_colab_link": true
    },
    "kernelspec": {
      "name": "python3",
      "display_name": "Python 3"
    },
    "language_info": {
      "name": "python"
    }
  },
  "cells": [
    {
      "cell_type": "markdown",
      "metadata": {
        "id": "view-in-github",
        "colab_type": "text"
      },
      "source": [
        "<a href=\"https://colab.research.google.com/github/Somu-Gen/WQI_Streamlit/blob/main/Water_Quality_classifier_.ipynb\" target=\"_parent\"><img src=\"https://colab.research.google.com/assets/colab-badge.svg\" alt=\"Open In Colab\"/></a>"
      ]
    },
    {
      "cell_type": "code",
      "execution_count": null,
      "metadata": {
        "id": "gqLll6Fm4wAh"
      },
      "outputs": [],
      "source": [
        "import numpy as np\n",
        "import pandas as pd\n",
        "import missingno as msn\n",
        "from scipy import stats\n",
        "\n",
        "pd.options.mode.chained_assignment = None"
      ]
    },
    {
      "cell_type": "code",
      "source": [
        "import seaborn as sns\n",
        "from matplotlib import style\n",
        "import matplotlib.pyplot as plt\n",
        "import plotly.graph_objects as go\n",
        "from matplotlib.gridspec import GridSpec\n",
        "from plotly.subplots import make_subplots\n",
        "from plotly.offline import init_notebook_mode"
      ],
      "metadata": {
        "id": "VSxv1orW5Rmi"
      },
      "execution_count": null,
      "outputs": []
    },
    {
      "cell_type": "code",
      "source": [
        "df = pd.read_csv(\"/content/water_potability.csv\")"
      ],
      "metadata": {
        "id": "0PxB2yjF5VSy"
      },
      "execution_count": null,
      "outputs": []
    },
    {
      "cell_type": "code",
      "source": [
        "print(df)"
      ],
      "metadata": {
        "colab": {
          "base_uri": "https://localhost:8080/"
        },
        "id": "dcZ2KWsmcbDw",
        "outputId": "98ea788e-00a7-4444-d610-b4fe1c9292df"
      },
      "execution_count": null,
      "outputs": [
        {
          "output_type": "stream",
          "name": "stdout",
          "text": [
            "            ph    Hardness       Solids  Chloramines     Sulfate  \\\n",
            "0          NaN  204.890456  20791.31898     7.300212  368.516441   \n",
            "1     3.716080  129.422921  18630.05786     6.635246         NaN   \n",
            "2     8.099124  224.236259  19909.54173     9.275884         NaN   \n",
            "3     8.316766  214.373394  22018.41744     8.059332  356.886136   \n",
            "4     9.092223  181.101509  17978.98634     6.546600  310.135738   \n",
            "...        ...         ...          ...          ...         ...   \n",
            "3271  4.668102  193.681736  47580.99160     7.166639  359.948574   \n",
            "3272  7.808856  193.553212  17329.80216     8.061362         NaN   \n",
            "3273  9.419510  175.762646  33155.57822     7.350233         NaN   \n",
            "3274  5.126763  230.603758  11983.86938     6.303357         NaN   \n",
            "3275  7.874671  195.102299  17404.17706     7.509306         NaN   \n",
            "\n",
            "      Conductivity  Organic_carbon  Trihalomethanes  Turbidity  Potability  \n",
            "0       564.308654       10.379783        86.990970   2.963135           0  \n",
            "1       592.885359       15.180013        56.329076   4.500656           0  \n",
            "2       418.606213       16.868637        66.420093   3.055934           0  \n",
            "3       363.266516       18.436525       100.341674   4.628771           0  \n",
            "4       398.410813       11.558279        31.997993   4.075075           0  \n",
            "...            ...             ...              ...        ...         ...  \n",
            "3271    526.424171       13.894419        66.687695   4.435821           1  \n",
            "3272    392.449580       19.903225              NaN   2.798243           1  \n",
            "3273    432.044783       11.039070        69.845400   3.298875           1  \n",
            "3274    402.883113       11.168946        77.488213   4.708658           1  \n",
            "3275    327.459761       16.140368        78.698446   2.309149           1  \n",
            "\n",
            "[3276 rows x 10 columns]\n"
          ]
        }
      ]
    },
    {
      "cell_type": "code",
      "source": [
        "df.head()"
      ],
      "metadata": {
        "colab": {
          "base_uri": "https://localhost:8080/",
          "height": 206
        },
        "id": "kgMnf2U-5cZ8",
        "outputId": "3c1bdeed-96b3-4bff-92ba-a4c4be19cfeb"
      },
      "execution_count": null,
      "outputs": [
        {
          "output_type": "execute_result",
          "data": {
            "text/plain": [
              "         ph    Hardness       Solids  Chloramines     Sulfate  Conductivity  \\\n",
              "0       NaN  204.890456  20791.31898     7.300212  368.516441    564.308654   \n",
              "1  3.716080  129.422921  18630.05786     6.635246         NaN    592.885359   \n",
              "2  8.099124  224.236259  19909.54173     9.275884         NaN    418.606213   \n",
              "3  8.316766  214.373394  22018.41744     8.059332  356.886136    363.266516   \n",
              "4  9.092223  181.101509  17978.98634     6.546600  310.135738    398.410813   \n",
              "\n",
              "   Organic_carbon  Trihalomethanes  Turbidity  Potability  \n",
              "0       10.379783        86.990970   2.963135           0  \n",
              "1       15.180013        56.329076   4.500656           0  \n",
              "2       16.868637        66.420093   3.055934           0  \n",
              "3       18.436525       100.341674   4.628771           0  \n",
              "4       11.558279        31.997993   4.075075           0  "
            ],
            "text/html": [
              "\n",
              "  <div id=\"df-9ad299bb-cd23-443b-943c-bbe63777ef47\">\n",
              "    <div class=\"colab-df-container\">\n",
              "      <div>\n",
              "<style scoped>\n",
              "    .dataframe tbody tr th:only-of-type {\n",
              "        vertical-align: middle;\n",
              "    }\n",
              "\n",
              "    .dataframe tbody tr th {\n",
              "        vertical-align: top;\n",
              "    }\n",
              "\n",
              "    .dataframe thead th {\n",
              "        text-align: right;\n",
              "    }\n",
              "</style>\n",
              "<table border=\"1\" class=\"dataframe\">\n",
              "  <thead>\n",
              "    <tr style=\"text-align: right;\">\n",
              "      <th></th>\n",
              "      <th>ph</th>\n",
              "      <th>Hardness</th>\n",
              "      <th>Solids</th>\n",
              "      <th>Chloramines</th>\n",
              "      <th>Sulfate</th>\n",
              "      <th>Conductivity</th>\n",
              "      <th>Organic_carbon</th>\n",
              "      <th>Trihalomethanes</th>\n",
              "      <th>Turbidity</th>\n",
              "      <th>Potability</th>\n",
              "    </tr>\n",
              "  </thead>\n",
              "  <tbody>\n",
              "    <tr>\n",
              "      <th>0</th>\n",
              "      <td>NaN</td>\n",
              "      <td>204.890456</td>\n",
              "      <td>20791.31898</td>\n",
              "      <td>7.300212</td>\n",
              "      <td>368.516441</td>\n",
              "      <td>564.308654</td>\n",
              "      <td>10.379783</td>\n",
              "      <td>86.990970</td>\n",
              "      <td>2.963135</td>\n",
              "      <td>0</td>\n",
              "    </tr>\n",
              "    <tr>\n",
              "      <th>1</th>\n",
              "      <td>3.716080</td>\n",
              "      <td>129.422921</td>\n",
              "      <td>18630.05786</td>\n",
              "      <td>6.635246</td>\n",
              "      <td>NaN</td>\n",
              "      <td>592.885359</td>\n",
              "      <td>15.180013</td>\n",
              "      <td>56.329076</td>\n",
              "      <td>4.500656</td>\n",
              "      <td>0</td>\n",
              "    </tr>\n",
              "    <tr>\n",
              "      <th>2</th>\n",
              "      <td>8.099124</td>\n",
              "      <td>224.236259</td>\n",
              "      <td>19909.54173</td>\n",
              "      <td>9.275884</td>\n",
              "      <td>NaN</td>\n",
              "      <td>418.606213</td>\n",
              "      <td>16.868637</td>\n",
              "      <td>66.420093</td>\n",
              "      <td>3.055934</td>\n",
              "      <td>0</td>\n",
              "    </tr>\n",
              "    <tr>\n",
              "      <th>3</th>\n",
              "      <td>8.316766</td>\n",
              "      <td>214.373394</td>\n",
              "      <td>22018.41744</td>\n",
              "      <td>8.059332</td>\n",
              "      <td>356.886136</td>\n",
              "      <td>363.266516</td>\n",
              "      <td>18.436525</td>\n",
              "      <td>100.341674</td>\n",
              "      <td>4.628771</td>\n",
              "      <td>0</td>\n",
              "    </tr>\n",
              "    <tr>\n",
              "      <th>4</th>\n",
              "      <td>9.092223</td>\n",
              "      <td>181.101509</td>\n",
              "      <td>17978.98634</td>\n",
              "      <td>6.546600</td>\n",
              "      <td>310.135738</td>\n",
              "      <td>398.410813</td>\n",
              "      <td>11.558279</td>\n",
              "      <td>31.997993</td>\n",
              "      <td>4.075075</td>\n",
              "      <td>0</td>\n",
              "    </tr>\n",
              "  </tbody>\n",
              "</table>\n",
              "</div>\n",
              "      <button class=\"colab-df-convert\" onclick=\"convertToInteractive('df-9ad299bb-cd23-443b-943c-bbe63777ef47')\"\n",
              "              title=\"Convert this dataframe to an interactive table.\"\n",
              "              style=\"display:none;\">\n",
              "        \n",
              "  <svg xmlns=\"http://www.w3.org/2000/svg\" height=\"24px\"viewBox=\"0 0 24 24\"\n",
              "       width=\"24px\">\n",
              "    <path d=\"M0 0h24v24H0V0z\" fill=\"none\"/>\n",
              "    <path d=\"M18.56 5.44l.94 2.06.94-2.06 2.06-.94-2.06-.94-.94-2.06-.94 2.06-2.06.94zm-11 1L8.5 8.5l.94-2.06 2.06-.94-2.06-.94L8.5 2.5l-.94 2.06-2.06.94zm10 10l.94 2.06.94-2.06 2.06-.94-2.06-.94-.94-2.06-.94 2.06-2.06.94z\"/><path d=\"M17.41 7.96l-1.37-1.37c-.4-.4-.92-.59-1.43-.59-.52 0-1.04.2-1.43.59L10.3 9.45l-7.72 7.72c-.78.78-.78 2.05 0 2.83L4 21.41c.39.39.9.59 1.41.59.51 0 1.02-.2 1.41-.59l7.78-7.78 2.81-2.81c.8-.78.8-2.07 0-2.86zM5.41 20L4 18.59l7.72-7.72 1.47 1.35L5.41 20z\"/>\n",
              "  </svg>\n",
              "      </button>\n",
              "      \n",
              "  <style>\n",
              "    .colab-df-container {\n",
              "      display:flex;\n",
              "      flex-wrap:wrap;\n",
              "      gap: 12px;\n",
              "    }\n",
              "\n",
              "    .colab-df-convert {\n",
              "      background-color: #E8F0FE;\n",
              "      border: none;\n",
              "      border-radius: 50%;\n",
              "      cursor: pointer;\n",
              "      display: none;\n",
              "      fill: #1967D2;\n",
              "      height: 32px;\n",
              "      padding: 0 0 0 0;\n",
              "      width: 32px;\n",
              "    }\n",
              "\n",
              "    .colab-df-convert:hover {\n",
              "      background-color: #E2EBFA;\n",
              "      box-shadow: 0px 1px 2px rgba(60, 64, 67, 0.3), 0px 1px 3px 1px rgba(60, 64, 67, 0.15);\n",
              "      fill: #174EA6;\n",
              "    }\n",
              "\n",
              "    [theme=dark] .colab-df-convert {\n",
              "      background-color: #3B4455;\n",
              "      fill: #D2E3FC;\n",
              "    }\n",
              "\n",
              "    [theme=dark] .colab-df-convert:hover {\n",
              "      background-color: #434B5C;\n",
              "      box-shadow: 0px 1px 3px 1px rgba(0, 0, 0, 0.15);\n",
              "      filter: drop-shadow(0px 1px 2px rgba(0, 0, 0, 0.3));\n",
              "      fill: #FFFFFF;\n",
              "    }\n",
              "  </style>\n",
              "\n",
              "      <script>\n",
              "        const buttonEl =\n",
              "          document.querySelector('#df-9ad299bb-cd23-443b-943c-bbe63777ef47 button.colab-df-convert');\n",
              "        buttonEl.style.display =\n",
              "          google.colab.kernel.accessAllowed ? 'block' : 'none';\n",
              "\n",
              "        async function convertToInteractive(key) {\n",
              "          const element = document.querySelector('#df-9ad299bb-cd23-443b-943c-bbe63777ef47');\n",
              "          const dataTable =\n",
              "            await google.colab.kernel.invokeFunction('convertToInteractive',\n",
              "                                                     [key], {});\n",
              "          if (!dataTable) return;\n",
              "\n",
              "          const docLinkHtml = 'Like what you see? Visit the ' +\n",
              "            '<a target=\"_blank\" href=https://colab.research.google.com/notebooks/data_table.ipynb>data table notebook</a>'\n",
              "            + ' to learn more about interactive tables.';\n",
              "          element.innerHTML = '';\n",
              "          dataTable['output_type'] = 'display_data';\n",
              "          await google.colab.output.renderOutput(dataTable, element);\n",
              "          const docLink = document.createElement('div');\n",
              "          docLink.innerHTML = docLinkHtml;\n",
              "          element.appendChild(docLink);\n",
              "        }\n",
              "      </script>\n",
              "    </div>\n",
              "  </div>\n",
              "  "
            ]
          },
          "metadata": {},
          "execution_count": 9
        }
      ]
    },
    {
      "cell_type": "code",
      "source": [
        "df.describe()"
      ],
      "metadata": {
        "colab": {
          "base_uri": "https://localhost:8080/",
          "height": 300
        },
        "id": "faJRxc7o5hqw",
        "outputId": "cdff7c8b-fb7f-4e20-a3e0-aa62d66835d3"
      },
      "execution_count": null,
      "outputs": [
        {
          "output_type": "execute_result",
          "data": {
            "text/plain": [
              "                ph     Hardness        Solids  Chloramines      Sulfate  \\\n",
              "count  2785.000000  3276.000000   3276.000000  3276.000000  2495.000000   \n",
              "mean      7.080795   196.369496  22014.092526     7.122277   333.775777   \n",
              "std       1.594320    32.879761   8768.570828     1.583085    41.416840   \n",
              "min       0.000000    47.432000    320.942611     0.352000   129.000000   \n",
              "25%       6.093092   176.850538  15666.690300     6.127421   307.699498   \n",
              "50%       7.036752   196.967627  20927.833605     7.130299   333.073546   \n",
              "75%       8.062066   216.667456  27332.762125     8.114887   359.950170   \n",
              "max      14.000000   323.124000  61227.196010    13.127000   481.030642   \n",
              "\n",
              "       Conductivity  Organic_carbon  Trihalomethanes    Turbidity   Potability  \n",
              "count   3276.000000     3276.000000      3114.000000  3276.000000  3276.000000  \n",
              "mean     426.205111       14.284970        66.396293     3.966786     0.390110  \n",
              "std       80.824064        3.308162        16.175008     0.780382     0.487849  \n",
              "min      181.483754        2.200000         0.738000     1.450000     0.000000  \n",
              "25%      365.734414       12.065801        55.844536     3.439711     0.000000  \n",
              "50%      421.884968       14.218338        66.622485     3.955028     0.000000  \n",
              "75%      481.792305       16.557652        77.337473     4.500320     1.000000  \n",
              "max      753.342620       28.300000       124.000000     6.739000     1.000000  "
            ],
            "text/html": [
              "\n",
              "  <div id=\"df-be0fbf0a-6c7c-4b06-8f61-069b4d3cea94\">\n",
              "    <div class=\"colab-df-container\">\n",
              "      <div>\n",
              "<style scoped>\n",
              "    .dataframe tbody tr th:only-of-type {\n",
              "        vertical-align: middle;\n",
              "    }\n",
              "\n",
              "    .dataframe tbody tr th {\n",
              "        vertical-align: top;\n",
              "    }\n",
              "\n",
              "    .dataframe thead th {\n",
              "        text-align: right;\n",
              "    }\n",
              "</style>\n",
              "<table border=\"1\" class=\"dataframe\">\n",
              "  <thead>\n",
              "    <tr style=\"text-align: right;\">\n",
              "      <th></th>\n",
              "      <th>ph</th>\n",
              "      <th>Hardness</th>\n",
              "      <th>Solids</th>\n",
              "      <th>Chloramines</th>\n",
              "      <th>Sulfate</th>\n",
              "      <th>Conductivity</th>\n",
              "      <th>Organic_carbon</th>\n",
              "      <th>Trihalomethanes</th>\n",
              "      <th>Turbidity</th>\n",
              "      <th>Potability</th>\n",
              "    </tr>\n",
              "  </thead>\n",
              "  <tbody>\n",
              "    <tr>\n",
              "      <th>count</th>\n",
              "      <td>2785.000000</td>\n",
              "      <td>3276.000000</td>\n",
              "      <td>3276.000000</td>\n",
              "      <td>3276.000000</td>\n",
              "      <td>2495.000000</td>\n",
              "      <td>3276.000000</td>\n",
              "      <td>3276.000000</td>\n",
              "      <td>3114.000000</td>\n",
              "      <td>3276.000000</td>\n",
              "      <td>3276.000000</td>\n",
              "    </tr>\n",
              "    <tr>\n",
              "      <th>mean</th>\n",
              "      <td>7.080795</td>\n",
              "      <td>196.369496</td>\n",
              "      <td>22014.092526</td>\n",
              "      <td>7.122277</td>\n",
              "      <td>333.775777</td>\n",
              "      <td>426.205111</td>\n",
              "      <td>14.284970</td>\n",
              "      <td>66.396293</td>\n",
              "      <td>3.966786</td>\n",
              "      <td>0.390110</td>\n",
              "    </tr>\n",
              "    <tr>\n",
              "      <th>std</th>\n",
              "      <td>1.594320</td>\n",
              "      <td>32.879761</td>\n",
              "      <td>8768.570828</td>\n",
              "      <td>1.583085</td>\n",
              "      <td>41.416840</td>\n",
              "      <td>80.824064</td>\n",
              "      <td>3.308162</td>\n",
              "      <td>16.175008</td>\n",
              "      <td>0.780382</td>\n",
              "      <td>0.487849</td>\n",
              "    </tr>\n",
              "    <tr>\n",
              "      <th>min</th>\n",
              "      <td>0.000000</td>\n",
              "      <td>47.432000</td>\n",
              "      <td>320.942611</td>\n",
              "      <td>0.352000</td>\n",
              "      <td>129.000000</td>\n",
              "      <td>181.483754</td>\n",
              "      <td>2.200000</td>\n",
              "      <td>0.738000</td>\n",
              "      <td>1.450000</td>\n",
              "      <td>0.000000</td>\n",
              "    </tr>\n",
              "    <tr>\n",
              "      <th>25%</th>\n",
              "      <td>6.093092</td>\n",
              "      <td>176.850538</td>\n",
              "      <td>15666.690300</td>\n",
              "      <td>6.127421</td>\n",
              "      <td>307.699498</td>\n",
              "      <td>365.734414</td>\n",
              "      <td>12.065801</td>\n",
              "      <td>55.844536</td>\n",
              "      <td>3.439711</td>\n",
              "      <td>0.000000</td>\n",
              "    </tr>\n",
              "    <tr>\n",
              "      <th>50%</th>\n",
              "      <td>7.036752</td>\n",
              "      <td>196.967627</td>\n",
              "      <td>20927.833605</td>\n",
              "      <td>7.130299</td>\n",
              "      <td>333.073546</td>\n",
              "      <td>421.884968</td>\n",
              "      <td>14.218338</td>\n",
              "      <td>66.622485</td>\n",
              "      <td>3.955028</td>\n",
              "      <td>0.000000</td>\n",
              "    </tr>\n",
              "    <tr>\n",
              "      <th>75%</th>\n",
              "      <td>8.062066</td>\n",
              "      <td>216.667456</td>\n",
              "      <td>27332.762125</td>\n",
              "      <td>8.114887</td>\n",
              "      <td>359.950170</td>\n",
              "      <td>481.792305</td>\n",
              "      <td>16.557652</td>\n",
              "      <td>77.337473</td>\n",
              "      <td>4.500320</td>\n",
              "      <td>1.000000</td>\n",
              "    </tr>\n",
              "    <tr>\n",
              "      <th>max</th>\n",
              "      <td>14.000000</td>\n",
              "      <td>323.124000</td>\n",
              "      <td>61227.196010</td>\n",
              "      <td>13.127000</td>\n",
              "      <td>481.030642</td>\n",
              "      <td>753.342620</td>\n",
              "      <td>28.300000</td>\n",
              "      <td>124.000000</td>\n",
              "      <td>6.739000</td>\n",
              "      <td>1.000000</td>\n",
              "    </tr>\n",
              "  </tbody>\n",
              "</table>\n",
              "</div>\n",
              "      <button class=\"colab-df-convert\" onclick=\"convertToInteractive('df-be0fbf0a-6c7c-4b06-8f61-069b4d3cea94')\"\n",
              "              title=\"Convert this dataframe to an interactive table.\"\n",
              "              style=\"display:none;\">\n",
              "        \n",
              "  <svg xmlns=\"http://www.w3.org/2000/svg\" height=\"24px\"viewBox=\"0 0 24 24\"\n",
              "       width=\"24px\">\n",
              "    <path d=\"M0 0h24v24H0V0z\" fill=\"none\"/>\n",
              "    <path d=\"M18.56 5.44l.94 2.06.94-2.06 2.06-.94-2.06-.94-.94-2.06-.94 2.06-2.06.94zm-11 1L8.5 8.5l.94-2.06 2.06-.94-2.06-.94L8.5 2.5l-.94 2.06-2.06.94zm10 10l.94 2.06.94-2.06 2.06-.94-2.06-.94-.94-2.06-.94 2.06-2.06.94z\"/><path d=\"M17.41 7.96l-1.37-1.37c-.4-.4-.92-.59-1.43-.59-.52 0-1.04.2-1.43.59L10.3 9.45l-7.72 7.72c-.78.78-.78 2.05 0 2.83L4 21.41c.39.39.9.59 1.41.59.51 0 1.02-.2 1.41-.59l7.78-7.78 2.81-2.81c.8-.78.8-2.07 0-2.86zM5.41 20L4 18.59l7.72-7.72 1.47 1.35L5.41 20z\"/>\n",
              "  </svg>\n",
              "      </button>\n",
              "      \n",
              "  <style>\n",
              "    .colab-df-container {\n",
              "      display:flex;\n",
              "      flex-wrap:wrap;\n",
              "      gap: 12px;\n",
              "    }\n",
              "\n",
              "    .colab-df-convert {\n",
              "      background-color: #E8F0FE;\n",
              "      border: none;\n",
              "      border-radius: 50%;\n",
              "      cursor: pointer;\n",
              "      display: none;\n",
              "      fill: #1967D2;\n",
              "      height: 32px;\n",
              "      padding: 0 0 0 0;\n",
              "      width: 32px;\n",
              "    }\n",
              "\n",
              "    .colab-df-convert:hover {\n",
              "      background-color: #E2EBFA;\n",
              "      box-shadow: 0px 1px 2px rgba(60, 64, 67, 0.3), 0px 1px 3px 1px rgba(60, 64, 67, 0.15);\n",
              "      fill: #174EA6;\n",
              "    }\n",
              "\n",
              "    [theme=dark] .colab-df-convert {\n",
              "      background-color: #3B4455;\n",
              "      fill: #D2E3FC;\n",
              "    }\n",
              "\n",
              "    [theme=dark] .colab-df-convert:hover {\n",
              "      background-color: #434B5C;\n",
              "      box-shadow: 0px 1px 3px 1px rgba(0, 0, 0, 0.15);\n",
              "      filter: drop-shadow(0px 1px 2px rgba(0, 0, 0, 0.3));\n",
              "      fill: #FFFFFF;\n",
              "    }\n",
              "  </style>\n",
              "\n",
              "      <script>\n",
              "        const buttonEl =\n",
              "          document.querySelector('#df-be0fbf0a-6c7c-4b06-8f61-069b4d3cea94 button.colab-df-convert');\n",
              "        buttonEl.style.display =\n",
              "          google.colab.kernel.accessAllowed ? 'block' : 'none';\n",
              "\n",
              "        async function convertToInteractive(key) {\n",
              "          const element = document.querySelector('#df-be0fbf0a-6c7c-4b06-8f61-069b4d3cea94');\n",
              "          const dataTable =\n",
              "            await google.colab.kernel.invokeFunction('convertToInteractive',\n",
              "                                                     [key], {});\n",
              "          if (!dataTable) return;\n",
              "\n",
              "          const docLinkHtml = 'Like what you see? Visit the ' +\n",
              "            '<a target=\"_blank\" href=https://colab.research.google.com/notebooks/data_table.ipynb>data table notebook</a>'\n",
              "            + ' to learn more about interactive tables.';\n",
              "          element.innerHTML = '';\n",
              "          dataTable['output_type'] = 'display_data';\n",
              "          await google.colab.output.renderOutput(dataTable, element);\n",
              "          const docLink = document.createElement('div');\n",
              "          docLink.innerHTML = docLinkHtml;\n",
              "          element.appendChild(docLink);\n",
              "        }\n",
              "      </script>\n",
              "    </div>\n",
              "  </div>\n",
              "  "
            ]
          },
          "metadata": {},
          "execution_count": 10
        }
      ]
    },
    {
      "cell_type": "code",
      "source": [
        "df.Potability.value_counts()\n",
        "#there is a class imbalance"
      ],
      "metadata": {
        "colab": {
          "base_uri": "https://localhost:8080/"
        },
        "id": "-dbrHc94AA6G",
        "outputId": "2a7b0604-1877-4c27-98e3-01948e5c3972"
      },
      "execution_count": null,
      "outputs": [
        {
          "output_type": "execute_result",
          "data": {
            "text/plain": [
              "0    1998\n",
              "1    1278\n",
              "Name: Potability, dtype: int64"
            ]
          },
          "metadata": {},
          "execution_count": 11
        }
      ]
    },
    {
      "cell_type": "code",
      "source": [
        "df.isnull().sum()"
      ],
      "metadata": {
        "colab": {
          "base_uri": "https://localhost:8080/"
        },
        "id": "Gd7x7KuV5oS4",
        "outputId": "5c7fe780-a64b-41d0-838e-d572d65cbd7e"
      },
      "execution_count": null,
      "outputs": [
        {
          "output_type": "execute_result",
          "data": {
            "text/plain": [
              "ph                 491\n",
              "Hardness             0\n",
              "Solids               0\n",
              "Chloramines          0\n",
              "Sulfate            781\n",
              "Conductivity         0\n",
              "Organic_carbon       0\n",
              "Trihalomethanes    162\n",
              "Turbidity            0\n",
              "Potability           0\n",
              "dtype: int64"
            ]
          },
          "metadata": {},
          "execution_count": 12
        }
      ]
    },
    {
      "cell_type": "code",
      "source": [
        "df = df.dropna()"
      ],
      "metadata": {
        "id": "Vu2rfie05oql"
      },
      "execution_count": null,
      "outputs": []
    },
    {
      "cell_type": "code",
      "source": [
        "df.shape"
      ],
      "metadata": {
        "colab": {
          "base_uri": "https://localhost:8080/"
        },
        "id": "eiA8A72K6oWr",
        "outputId": "77f2747d-c911-4e7c-ac63-e433f8165785"
      },
      "execution_count": null,
      "outputs": [
        {
          "output_type": "execute_result",
          "data": {
            "text/plain": [
              "(2011, 10)"
            ]
          },
          "metadata": {},
          "execution_count": 14
        }
      ]
    },
    {
      "cell_type": "code",
      "source": [
        "#seeing correlation between features\n",
        "cor=df.drop('Potability',axis=1).corr()\n",
        "cor"
      ],
      "metadata": {
        "colab": {
          "base_uri": "https://localhost:8080/",
          "height": 332
        },
        "id": "19n559Fi77VX",
        "outputId": "5c03df05-89e0-417b-d26a-df308bff0d38"
      },
      "execution_count": null,
      "outputs": [
        {
          "output_type": "execute_result",
          "data": {
            "text/plain": [
              "                       ph  Hardness    Solids  Chloramines   Sulfate  \\\n",
              "ph               1.000000  0.108948 -0.087615    -0.024768  0.010524   \n",
              "Hardness         0.108948  1.000000 -0.053269    -0.022685 -0.108521   \n",
              "Solids          -0.087615 -0.053269  1.000000    -0.051789 -0.162769   \n",
              "Chloramines     -0.024768 -0.022685 -0.051789     1.000000  0.006254   \n",
              "Sulfate          0.010524 -0.108521 -0.162769     0.006254  1.000000   \n",
              "Conductivity     0.014128  0.011731 -0.005198    -0.028277 -0.016192   \n",
              "Organic_carbon   0.028375  0.013224 -0.005484    -0.023808  0.026776   \n",
              "Trihalomethanes  0.018278 -0.015400 -0.015668     0.014990 -0.023347   \n",
              "Turbidity       -0.035849 -0.034831  0.019409     0.013137 -0.009934   \n",
              "\n",
              "                 Conductivity  Organic_carbon  Trihalomethanes  Turbidity  \n",
              "ph                   0.014128        0.028375         0.018278  -0.035849  \n",
              "Hardness             0.011731        0.013224        -0.015400  -0.034831  \n",
              "Solids              -0.005198       -0.005484        -0.015668   0.019409  \n",
              "Chloramines         -0.028277       -0.023808         0.014990   0.013137  \n",
              "Sulfate             -0.016192        0.026776        -0.023347  -0.009934  \n",
              "Conductivity         1.000000        0.015647         0.004888   0.012495  \n",
              "Organic_carbon       0.015647        1.000000        -0.005667  -0.015428  \n",
              "Trihalomethanes      0.004888       -0.005667         1.000000  -0.020497  \n",
              "Turbidity            0.012495       -0.015428        -0.020497   1.000000  "
            ],
            "text/html": [
              "\n",
              "  <div id=\"df-4ce6f9fc-60a0-48df-8f4f-21ef6683ddbb\">\n",
              "    <div class=\"colab-df-container\">\n",
              "      <div>\n",
              "<style scoped>\n",
              "    .dataframe tbody tr th:only-of-type {\n",
              "        vertical-align: middle;\n",
              "    }\n",
              "\n",
              "    .dataframe tbody tr th {\n",
              "        vertical-align: top;\n",
              "    }\n",
              "\n",
              "    .dataframe thead th {\n",
              "        text-align: right;\n",
              "    }\n",
              "</style>\n",
              "<table border=\"1\" class=\"dataframe\">\n",
              "  <thead>\n",
              "    <tr style=\"text-align: right;\">\n",
              "      <th></th>\n",
              "      <th>ph</th>\n",
              "      <th>Hardness</th>\n",
              "      <th>Solids</th>\n",
              "      <th>Chloramines</th>\n",
              "      <th>Sulfate</th>\n",
              "      <th>Conductivity</th>\n",
              "      <th>Organic_carbon</th>\n",
              "      <th>Trihalomethanes</th>\n",
              "      <th>Turbidity</th>\n",
              "    </tr>\n",
              "  </thead>\n",
              "  <tbody>\n",
              "    <tr>\n",
              "      <th>ph</th>\n",
              "      <td>1.000000</td>\n",
              "      <td>0.108948</td>\n",
              "      <td>-0.087615</td>\n",
              "      <td>-0.024768</td>\n",
              "      <td>0.010524</td>\n",
              "      <td>0.014128</td>\n",
              "      <td>0.028375</td>\n",
              "      <td>0.018278</td>\n",
              "      <td>-0.035849</td>\n",
              "    </tr>\n",
              "    <tr>\n",
              "      <th>Hardness</th>\n",
              "      <td>0.108948</td>\n",
              "      <td>1.000000</td>\n",
              "      <td>-0.053269</td>\n",
              "      <td>-0.022685</td>\n",
              "      <td>-0.108521</td>\n",
              "      <td>0.011731</td>\n",
              "      <td>0.013224</td>\n",
              "      <td>-0.015400</td>\n",
              "      <td>-0.034831</td>\n",
              "    </tr>\n",
              "    <tr>\n",
              "      <th>Solids</th>\n",
              "      <td>-0.087615</td>\n",
              "      <td>-0.053269</td>\n",
              "      <td>1.000000</td>\n",
              "      <td>-0.051789</td>\n",
              "      <td>-0.162769</td>\n",
              "      <td>-0.005198</td>\n",
              "      <td>-0.005484</td>\n",
              "      <td>-0.015668</td>\n",
              "      <td>0.019409</td>\n",
              "    </tr>\n",
              "    <tr>\n",
              "      <th>Chloramines</th>\n",
              "      <td>-0.024768</td>\n",
              "      <td>-0.022685</td>\n",
              "      <td>-0.051789</td>\n",
              "      <td>1.000000</td>\n",
              "      <td>0.006254</td>\n",
              "      <td>-0.028277</td>\n",
              "      <td>-0.023808</td>\n",
              "      <td>0.014990</td>\n",
              "      <td>0.013137</td>\n",
              "    </tr>\n",
              "    <tr>\n",
              "      <th>Sulfate</th>\n",
              "      <td>0.010524</td>\n",
              "      <td>-0.108521</td>\n",
              "      <td>-0.162769</td>\n",
              "      <td>0.006254</td>\n",
              "      <td>1.000000</td>\n",
              "      <td>-0.016192</td>\n",
              "      <td>0.026776</td>\n",
              "      <td>-0.023347</td>\n",
              "      <td>-0.009934</td>\n",
              "    </tr>\n",
              "    <tr>\n",
              "      <th>Conductivity</th>\n",
              "      <td>0.014128</td>\n",
              "      <td>0.011731</td>\n",
              "      <td>-0.005198</td>\n",
              "      <td>-0.028277</td>\n",
              "      <td>-0.016192</td>\n",
              "      <td>1.000000</td>\n",
              "      <td>0.015647</td>\n",
              "      <td>0.004888</td>\n",
              "      <td>0.012495</td>\n",
              "    </tr>\n",
              "    <tr>\n",
              "      <th>Organic_carbon</th>\n",
              "      <td>0.028375</td>\n",
              "      <td>0.013224</td>\n",
              "      <td>-0.005484</td>\n",
              "      <td>-0.023808</td>\n",
              "      <td>0.026776</td>\n",
              "      <td>0.015647</td>\n",
              "      <td>1.000000</td>\n",
              "      <td>-0.005667</td>\n",
              "      <td>-0.015428</td>\n",
              "    </tr>\n",
              "    <tr>\n",
              "      <th>Trihalomethanes</th>\n",
              "      <td>0.018278</td>\n",
              "      <td>-0.015400</td>\n",
              "      <td>-0.015668</td>\n",
              "      <td>0.014990</td>\n",
              "      <td>-0.023347</td>\n",
              "      <td>0.004888</td>\n",
              "      <td>-0.005667</td>\n",
              "      <td>1.000000</td>\n",
              "      <td>-0.020497</td>\n",
              "    </tr>\n",
              "    <tr>\n",
              "      <th>Turbidity</th>\n",
              "      <td>-0.035849</td>\n",
              "      <td>-0.034831</td>\n",
              "      <td>0.019409</td>\n",
              "      <td>0.013137</td>\n",
              "      <td>-0.009934</td>\n",
              "      <td>0.012495</td>\n",
              "      <td>-0.015428</td>\n",
              "      <td>-0.020497</td>\n",
              "      <td>1.000000</td>\n",
              "    </tr>\n",
              "  </tbody>\n",
              "</table>\n",
              "</div>\n",
              "      <button class=\"colab-df-convert\" onclick=\"convertToInteractive('df-4ce6f9fc-60a0-48df-8f4f-21ef6683ddbb')\"\n",
              "              title=\"Convert this dataframe to an interactive table.\"\n",
              "              style=\"display:none;\">\n",
              "        \n",
              "  <svg xmlns=\"http://www.w3.org/2000/svg\" height=\"24px\"viewBox=\"0 0 24 24\"\n",
              "       width=\"24px\">\n",
              "    <path d=\"M0 0h24v24H0V0z\" fill=\"none\"/>\n",
              "    <path d=\"M18.56 5.44l.94 2.06.94-2.06 2.06-.94-2.06-.94-.94-2.06-.94 2.06-2.06.94zm-11 1L8.5 8.5l.94-2.06 2.06-.94-2.06-.94L8.5 2.5l-.94 2.06-2.06.94zm10 10l.94 2.06.94-2.06 2.06-.94-2.06-.94-.94-2.06-.94 2.06-2.06.94z\"/><path d=\"M17.41 7.96l-1.37-1.37c-.4-.4-.92-.59-1.43-.59-.52 0-1.04.2-1.43.59L10.3 9.45l-7.72 7.72c-.78.78-.78 2.05 0 2.83L4 21.41c.39.39.9.59 1.41.59.51 0 1.02-.2 1.41-.59l7.78-7.78 2.81-2.81c.8-.78.8-2.07 0-2.86zM5.41 20L4 18.59l7.72-7.72 1.47 1.35L5.41 20z\"/>\n",
              "  </svg>\n",
              "      </button>\n",
              "      \n",
              "  <style>\n",
              "    .colab-df-container {\n",
              "      display:flex;\n",
              "      flex-wrap:wrap;\n",
              "      gap: 12px;\n",
              "    }\n",
              "\n",
              "    .colab-df-convert {\n",
              "      background-color: #E8F0FE;\n",
              "      border: none;\n",
              "      border-radius: 50%;\n",
              "      cursor: pointer;\n",
              "      display: none;\n",
              "      fill: #1967D2;\n",
              "      height: 32px;\n",
              "      padding: 0 0 0 0;\n",
              "      width: 32px;\n",
              "    }\n",
              "\n",
              "    .colab-df-convert:hover {\n",
              "      background-color: #E2EBFA;\n",
              "      box-shadow: 0px 1px 2px rgba(60, 64, 67, 0.3), 0px 1px 3px 1px rgba(60, 64, 67, 0.15);\n",
              "      fill: #174EA6;\n",
              "    }\n",
              "\n",
              "    [theme=dark] .colab-df-convert {\n",
              "      background-color: #3B4455;\n",
              "      fill: #D2E3FC;\n",
              "    }\n",
              "\n",
              "    [theme=dark] .colab-df-convert:hover {\n",
              "      background-color: #434B5C;\n",
              "      box-shadow: 0px 1px 3px 1px rgba(0, 0, 0, 0.15);\n",
              "      filter: drop-shadow(0px 1px 2px rgba(0, 0, 0, 0.3));\n",
              "      fill: #FFFFFF;\n",
              "    }\n",
              "  </style>\n",
              "\n",
              "      <script>\n",
              "        const buttonEl =\n",
              "          document.querySelector('#df-4ce6f9fc-60a0-48df-8f4f-21ef6683ddbb button.colab-df-convert');\n",
              "        buttonEl.style.display =\n",
              "          google.colab.kernel.accessAllowed ? 'block' : 'none';\n",
              "\n",
              "        async function convertToInteractive(key) {\n",
              "          const element = document.querySelector('#df-4ce6f9fc-60a0-48df-8f4f-21ef6683ddbb');\n",
              "          const dataTable =\n",
              "            await google.colab.kernel.invokeFunction('convertToInteractive',\n",
              "                                                     [key], {});\n",
              "          if (!dataTable) return;\n",
              "\n",
              "          const docLinkHtml = 'Like what you see? Visit the ' +\n",
              "            '<a target=\"_blank\" href=https://colab.research.google.com/notebooks/data_table.ipynb>data table notebook</a>'\n",
              "            + ' to learn more about interactive tables.';\n",
              "          element.innerHTML = '';\n",
              "          dataTable['output_type'] = 'display_data';\n",
              "          await google.colab.output.renderOutput(dataTable, element);\n",
              "          const docLink = document.createElement('div');\n",
              "          docLink.innerHTML = docLinkHtml;\n",
              "          element.appendChild(docLink);\n",
              "        }\n",
              "      </script>\n",
              "    </div>\n",
              "  </div>\n",
              "  "
            ]
          },
          "metadata": {},
          "execution_count": 15
        }
      ]
    },
    {
      "cell_type": "code",
      "source": [
        "plt.figure(figsize = (15,9))\n",
        "sns.heatmap(df.corr(), annot = True)"
      ],
      "metadata": {
        "colab": {
          "base_uri": "https://localhost:8080/",
          "height": 631
        },
        "id": "aroeoB1jk372",
        "outputId": "049beebe-0fed-4087-f40d-10e80e40d915"
      },
      "execution_count": null,
      "outputs": [
        {
          "output_type": "execute_result",
          "data": {
            "text/plain": [
              "<matplotlib.axes._subplots.AxesSubplot at 0x7faa185ab7d0>"
            ]
          },
          "metadata": {},
          "execution_count": 16
        },
        {
          "output_type": "display_data",
          "data": {
            "text/plain": [
              "<Figure size 1080x648 with 2 Axes>"
            ],
            "image/png": "[encoded data removed]"
          },
          "metadata": {
            "needs_background": "light"
          }
        }
      ]
    },
    {
      "cell_type": "code",
      "source": [
        "X = df.drop('Potability', axis=1)\n",
        "y = df.Potability"
      ],
      "metadata": {
        "id": "laYe5daq7Ka-"
      },
      "execution_count": null,
      "outputs": []
    },
    {
      "cell_type": "code",
      "source": [
        "from sklearn.model_selection import train_test_split\n",
        "from sklearn.preprocessing import StandardScaler,MinMaxScaler\n",
        "X_train, X_test, y_train, y_test = train_test_split(X, y, test_size=0.3, random_state=101)"
      ],
      "metadata": {
        "id": "BmJimkH28rQc"
      },
      "execution_count": null,
      "outputs": []
    },
    {
      "cell_type": "code",
      "source": [
        "# Models\n",
        "from sklearn.linear_model import LogisticRegression,RidgeClassifier,SGDClassifier,PassiveAggressiveClassifier\n",
        "from sklearn.linear_model import Perceptron\n",
        "from sklearn.svm import SVC,LinearSVC,NuSVC\n",
        "from sklearn.neighbors import KNeighborsClassifier,NearestCentroid\n",
        "from sklearn.tree import DecisionTreeClassifier\n",
        "from sklearn.ensemble import RandomForestClassifier,AdaBoostClassifier,GradientBoostingClassifier\n",
        "from sklearn.naive_bayes import GaussianNB,BernoulliNB\n",
        "from sklearn.ensemble import VotingClassifier\n",
        "\n",
        "# metrics\n",
        "from sklearn.metrics import precision_score,accuracy_score"
      ],
      "metadata": {
        "id": "74LT0zia-O4G"
      },
      "execution_count": null,
      "outputs": []
    },
    {
      "cell_type": "code",
      "source": [
        "model=RandomForestClassifier(n_estimators=500,random_state=20)"
      ],
      "metadata": {
        "id": "US29mVuY9urZ"
      },
      "execution_count": null,
      "outputs": []
    },
    {
      "cell_type": "code",
      "source": [
        "model.fit(X_train, y_train)\n",
        "y_pred = model.predict(X_test)\n",
        "score = precision_score(y_test, y_pred,average='macro')\n",
        "accuracy_score(y_test,y_pred)"
      ],
      "metadata": {
        "id": "jVnGzZ5P-WAM",
        "colab": {
          "base_uri": "https://localhost:8080/"
        },
        "outputId": "91e89f2e-5749-4094-f8e8-dc2a822b2522"
      },
      "execution_count": null,
      "outputs": [
        {
          "output_type": "execute_result",
          "data": {
            "text/plain": [
              "0.7036423841059603"
            ]
          },
          "metadata": {},
          "execution_count": 22
        }
      ]
    },
    {
      "cell_type": "code",
      "source": [
        "score"
      ],
      "metadata": {
        "colab": {
          "base_uri": "https://localhost:8080/"
        },
        "id": "6CqSzNhC-pf7",
        "outputId": "617981b0-7634-4a22-a03f-a3298662d416"
      },
      "execution_count": null,
      "outputs": [
        {
          "output_type": "execute_result",
          "data": {
            "text/plain": [
              "0.7156854256854257"
            ]
          },
          "metadata": {},
          "execution_count": 23
        }
      ]
    },
    {
      "cell_type": "code",
      "source": [
        "#training Knn classifier\n",
        "model1= KNeighborsClassifier(n_neighbors=10)\n",
        "model1.fit(X_train,y_train)\n",
        "\n",
        "Y_pred_10=model1.predict(X_test)\n",
        "print(accuracy_score(y_test,Y_pred_10))"
      ],
      "metadata": {
        "colab": {
          "base_uri": "https://localhost:8080/"
        },
        "id": "hkMg7O_NAYFt",
        "outputId": "d52c1c4a-8557-4e1b-d78c-9188027fa8f6"
      },
      "execution_count": null,
      "outputs": [
        {
          "output_type": "stream",
          "name": "stdout",
          "text": [
            "0.5794701986754967\n"
          ]
        }
      ]
    },
    {
      "cell_type": "code",
      "source": [
        "dt=DecisionTreeClassifier().fit(X_train,y_train)\n",
        "y_pred2=dt.predict(X_test)\n",
        "accuracy_score(y_test,y_pred2)"
      ],
      "metadata": {
        "colab": {
          "base_uri": "https://localhost:8080/"
        },
        "id": "X_IqRtexCXS6",
        "outputId": "e1c8d9a8-bb09-4894-b823-fdae1183ee26"
      },
      "execution_count": null,
      "outputs": [
        {
          "output_type": "execute_result",
          "data": {
            "text/plain": [
              "0.6291390728476821"
            ]
          },
          "metadata": {},
          "execution_count": 25
        }
      ]
    },
    {
      "cell_type": "code",
      "source": [
        "models =[(\"LR\", LogisticRegression(max_iter=1000)),(\"SVC\", SVC()),('KNN',KNeighborsClassifier(n_neighbors=10)),\n",
        "         (\"DTC\", DecisionTreeClassifier()),(\"GNB\", GaussianNB()),\n",
        "        (\"SGDC\", SGDClassifier()),(\"Perc\", Perceptron()),(\"NC\",NearestCentroid()),\n",
        "        (\"Ridge\", RidgeClassifier()),(\"NuSVC\", NuSVC()),(\"BNB\", BernoulliNB()),\n",
        "         ('RF',RandomForestClassifier()),('ADA',AdaBoostClassifier()),\n",
        "        ('XGB',GradientBoostingClassifier()),('PAC',PassiveAggressiveClassifier())]"
      ],
      "metadata": {
        "id": "TFzIXfvQkopg"
      },
      "execution_count": null,
      "outputs": []
    },
    {
      "cell_type": "code",
      "source": [
        "for name,model in models:\n",
        "    model.fit(X_train, y_train)\n",
        "    y_pred = model.predict(X_test)\n",
        "    print(name+\" = \"+str(accuracy_score(y_test,y_pred)))"
      ],
      "metadata": {
        "colab": {
          "base_uri": "https://localhost:8080/"
        },
        "id": "gJSNwp7SmLmy",
        "outputId": "1c3d0450-8491-400e-d9b6-fc6a39a95238"
      },
      "execution_count": null,
      "outputs": [
        {
          "output_type": "stream",
          "name": "stdout",
          "text": [
            "LR = 0.5860927152317881\n",
            "SVC = 0.5811258278145696\n",
            "KNN = 0.5794701986754967\n",
            "DTC = 0.6158940397350994\n",
            "GNB = 0.6158940397350994\n",
            "SGDC = 0.4205298013245033\n",
            "Perc = 0.41887417218543044\n",
            "NC = 0.47516556291390727\n",
            "Ridge = 0.5827814569536424\n",
            "NuSVC = 0.5231788079470199\n",
            "BNB = 0.5811258278145696\n",
            "RF = 0.6804635761589404\n",
            "ADA = 0.6026490066225165\n",
            "XGB = 0.6605960264900662\n",
            "PAC = 0.5811258278145696\n"
          ]
        }
      ]
    },
    {
      "cell_type": "code",
      "source": [
        "#Here the classes are imbalanced and we are getting low accuracy\n",
        "y.value_counts()"
      ],
      "metadata": {
        "colab": {
          "base_uri": "https://localhost:8080/"
        },
        "id": "0qWJ1FpmCfSL",
        "outputId": "2cc50c6b-ff02-48d8-b1db-b9dfa0be6b29"
      },
      "execution_count": null,
      "outputs": [
        {
          "output_type": "execute_result",
          "data": {
            "text/plain": [
              "0    1200\n",
              "1     811\n",
              "Name: Potability, dtype: int64"
            ]
          },
          "metadata": {},
          "execution_count": 28
        }
      ]
    },
    {
      "cell_type": "code",
      "source": [
        "data_1=pd.DataFrame(df[df[\"Potability\"]==1])\n",
        "data_0=pd.DataFrame(df[df[\"Potability\"]==0])\n",
        "\n",
        "data_1.shape,data_0.shape"
      ],
      "metadata": {
        "colab": {
          "base_uri": "https://localhost:8080/"
        },
        "id": "5xc0D5v3C3yd",
        "outputId": "c68c1891-a89d-4c29-b065-6ed03c4ae352"
      },
      "execution_count": null,
      "outputs": [
        {
          "output_type": "execute_result",
          "data": {
            "text/plain": [
              "((811, 10), (1200, 10))"
            ]
          },
          "metadata": {},
          "execution_count": 29
        }
      ]
    },
    {
      "cell_type": "markdown",
      "source": [
        "#We over sample data1 to 1200 so class is balanced"
      ],
      "metadata": {
        "id": "wDmlYZptDvqH"
      }
    },
    {
      "cell_type": "code",
      "source": [
        "data_1=data_1.sample(1200,replace=True,random_state=101)\n",
        "new_data=pd.concat([data_0,data_1])"
      ],
      "metadata": {
        "id": "jWvDQjuUC54z"
      },
      "execution_count": null,
      "outputs": []
    },
    {
      "cell_type": "code",
      "source": [
        "data_1.shape,data_0.shape"
      ],
      "metadata": {
        "colab": {
          "base_uri": "https://localhost:8080/"
        },
        "id": "jaaQ1kjzDjRU",
        "outputId": "41d1788c-a14f-40fb-aa46-ad69a3f467ff"
      },
      "execution_count": null,
      "outputs": [
        {
          "output_type": "execute_result",
          "data": {
            "text/plain": [
              "((1200, 10), (1200, 10))"
            ]
          },
          "metadata": {},
          "execution_count": 31
        }
      ]
    },
    {
      "cell_type": "code",
      "source": [
        "X1 = new_data.drop('Potability', axis=1)\n",
        "Y1 = new_data.Potability\n",
        "\n",
        "X_train1, X_test1, Y_train1, Y_test1= train_test_split(X1, Y1, test_size=0.30)"
      ],
      "metadata": {
        "id": "HvRT2N_ADSZU"
      },
      "execution_count": null,
      "outputs": []
    },
    {
      "cell_type": "code",
      "source": [
        "#training Knn classifier\n",
        "model1= KNeighborsClassifier(n_neighbors=10)\n",
        "model1.fit(X_train1,Y_train1)\n",
        "\n",
        "Y_pred_11=model1.predict(X_test1)\n",
        "print(accuracy_score(y_test,Y_pred_10))"
      ],
      "metadata": {
        "id": "HjHFD5pqmPv3",
        "colab": {
          "base_uri": "https://localhost:8080/"
        },
        "outputId": "34cd69fb-9ce5-42e7-a737-b331f212cee7"
      },
      "execution_count": null,
      "outputs": [
        {
          "output_type": "stream",
          "name": "stdout",
          "text": [
            "0.5794701986754967\n"
          ]
        }
      ]
    },
    {
      "cell_type": "code",
      "source": [
        "dt=DecisionTreeClassifier().fit(X_train1,Y_train1)\n",
        "Y_pred2=dt.predict(X_test1)\n",
        "accuracy_score(Y_test1,Y_pred2)"
      ],
      "metadata": {
        "id": "3lAmkk5tEH7U",
        "outputId": "144ebb05-4cca-439e-e9d4-19e47e16af9d",
        "colab": {
          "base_uri": "https://localhost:8080/"
        }
      },
      "execution_count": null,
      "outputs": [
        {
          "output_type": "execute_result",
          "data": {
            "text/plain": [
              "0.7583333333333333"
            ]
          },
          "metadata": {},
          "execution_count": 34
        }
      ]
    },
    {
      "cell_type": "code",
      "source": [
        "rf=RandomForestClassifier().fit(X_train1,Y_train1)\n",
        "Y_pred3=rf.predict(X_test1)\n",
        "accuracy_score(Y_test1,Y_pred3)"
      ],
      "metadata": {
        "colab": {
          "base_uri": "https://localhost:8080/"
        },
        "id": "gs4Rb-CUEACH",
        "outputId": "a7940307-057f-417b-ceff-85f3e76279a3"
      },
      "execution_count": null,
      "outputs": [
        {
          "output_type": "execute_result",
          "data": {
            "text/plain": [
              "0.8305555555555556"
            ]
          },
          "metadata": {},
          "execution_count": 35
        }
      ]
    },
    {
      "cell_type": "code",
      "source": [
        "rf=RandomForestClassifier(n_estimators=500,random_state=20).fit(X_train1,Y_train1)\n",
        "Y_pred3=rf.predict(X_test1)\n",
        "accuracy_score(Y_test1,Y_pred3)"
      ],
      "metadata": {
        "colab": {
          "base_uri": "https://localhost:8080/"
        },
        "id": "XPvgIcuHJRJi",
        "outputId": "8f8a70e4-2559-4575-d3fd-ccd66453b76e"
      },
      "execution_count": null,
      "outputs": [
        {
          "output_type": "execute_result",
          "data": {
            "text/plain": [
              "0.8152777777777778"
            ]
          },
          "metadata": {},
          "execution_count": 36
        }
      ]
    },
    {
      "cell_type": "code",
      "source": [
        "gnb = GaussianNB().fit(X_train1,Y_train1)\n",
        "Y_pred4=dt.predict(X_test1)\n",
        "accuracy_score(Y_test1,Y_pred4)"
      ],
      "metadata": {
        "colab": {
          "base_uri": "https://localhost:8080/"
        },
        "id": "7ZUeMsqUEEhw",
        "outputId": "9b57e0d0-b850-4d55-e85d-fec7072bc808"
      },
      "execution_count": null,
      "outputs": [
        {
          "output_type": "execute_result",
          "data": {
            "text/plain": [
              "0.7583333333333333"
            ]
          },
          "metadata": {},
          "execution_count": 37
        }
      ]
    },
    {
      "cell_type": "code",
      "source": [
        "for name,model in models:\n",
        "    model.fit(X_train1, Y_train1)\n",
        "    y_pred = model.predict(X_test1)\n",
        "    print(name+\" = \"+str(accuracy_score(Y_test1,y_pred)))"
      ],
      "metadata": {
        "colab": {
          "base_uri": "https://localhost:8080/"
        },
        "id": "HIqEIfYqnlEN",
        "outputId": "3f1365d2-41ac-42e2-a120-edf00f12f793"
      },
      "execution_count": null,
      "outputs": [
        {
          "output_type": "stream",
          "name": "stdout",
          "text": [
            "LR = 0.5055555555555555\n",
            "SVC = 0.4930555555555556\n",
            "KNN = 0.5875\n",
            "DTC = 0.7611111111111111\n",
            "GNB = 0.6027777777777777\n",
            "SGDC = 0.5236111111111111\n",
            "Perc = 0.4722222222222222\n",
            "NC = 0.5236111111111111\n",
            "Ridge = 0.5166666666666667\n",
            "NuSVC = 0.4708333333333333\n",
            "BNB = 0.4722222222222222\n",
            "RF = 0.8166666666666667\n",
            "ADA = 0.5861111111111111\n",
            "XGB = 0.7083333333333334\n",
            "PAC = 0.4722222222222222\n"
          ]
        }
      ]
    },
    {
      "cell_type": "code",
      "source": [
        "# Create Data\n",
        "x=['LR','KNN','Ridge','RF']\n",
        "y = accuracy_score(y_test,y_pred)\n",
        "\n",
        "# Simple Bar Plot\n",
        "plt.bar(x,y)\n",
        "plt.xlabel('Categories')\n",
        "plt.ylabel(\"Values\")\n",
        "plt.title('classifiers Bar Plot')\n",
        "plt.show()"
      ],
      "metadata": {
        "colab": {
          "base_uri": "https://localhost:8080/",
          "height": 380
        },
        "id": "flSQEeNhjBHs",
        "outputId": "f05ae95f-6cfe-42f7-9ea8-d3239b3988db"
      },
      "execution_count": null,
      "outputs": [
        {
          "output_type": "error",
          "ename": "ValueError",
          "evalue": "ignored",
          "traceback": [
            "\u001b[0;31m---------------------------------------------------------------------------\u001b[0m",
            "\u001b[0;31mValueError\u001b[0m                                Traceback (most recent call last)",
            "\u001b[0;32m<ipython-input-42-f9977f89a0ac>\u001b[0m in \u001b[0;36m<module>\u001b[0;34m()\u001b[0m\n\u001b[1;32m      1\u001b[0m \u001b[0;31m# Create Data\u001b[0m\u001b[0;34m\u001b[0m\u001b[0;34m\u001b[0m\u001b[0;34m\u001b[0m\u001b[0m\n\u001b[1;32m      2\u001b[0m \u001b[0mx\u001b[0m\u001b[0;34m=\u001b[0m\u001b[0;34m[\u001b[0m\u001b[0;34m'LR'\u001b[0m\u001b[0;34m,\u001b[0m\u001b[0;34m'KNN'\u001b[0m\u001b[0;34m,\u001b[0m\u001b[0;34m'Ridge'\u001b[0m\u001b[0;34m,\u001b[0m\u001b[0;34m'RF'\u001b[0m\u001b[0;34m]\u001b[0m\u001b[0;34m\u001b[0m\u001b[0;34m\u001b[0m\u001b[0m\n\u001b[0;32m----> 3\u001b[0;31m \u001b[0my\u001b[0m \u001b[0;34m=\u001b[0m \u001b[0maccuracy_score\u001b[0m\u001b[0;34m(\u001b[0m\u001b[0my_test\u001b[0m\u001b[0;34m,\u001b[0m\u001b[0my_pred\u001b[0m\u001b[0;34m)\u001b[0m\u001b[0;34m\u001b[0m\u001b[0;34m\u001b[0m\u001b[0m\n\u001b[0m\u001b[1;32m      4\u001b[0m \u001b[0;34m\u001b[0m\u001b[0m\n\u001b[1;32m      5\u001b[0m \u001b[0;31m# Simple Bar Plot\u001b[0m\u001b[0;34m\u001b[0m\u001b[0;34m\u001b[0m\u001b[0;34m\u001b[0m\u001b[0m\n",
            "\u001b[0;32m/usr/local/lib/python3.7/dist-packages/sklearn/metrics/_classification.py\u001b[0m in \u001b[0;36maccuracy_score\u001b[0;34m(y_true, y_pred, normalize, sample_weight)\u001b[0m\n\u001b[1;32m    209\u001b[0m \u001b[0;34m\u001b[0m\u001b[0m\n\u001b[1;32m    210\u001b[0m     \u001b[0;31m# Compute accuracy for each possible representation\u001b[0m\u001b[0;34m\u001b[0m\u001b[0;34m\u001b[0m\u001b[0;34m\u001b[0m\u001b[0m\n\u001b[0;32m--> 211\u001b[0;31m     \u001b[0my_type\u001b[0m\u001b[0;34m,\u001b[0m \u001b[0my_true\u001b[0m\u001b[0;34m,\u001b[0m \u001b[0my_pred\u001b[0m \u001b[0;34m=\u001b[0m \u001b[0m_check_targets\u001b[0m\u001b[0;34m(\u001b[0m\u001b[0my_true\u001b[0m\u001b[0;34m,\u001b[0m \u001b[0my_pred\u001b[0m\u001b[0;34m)\u001b[0m\u001b[0;34m\u001b[0m\u001b[0;34m\u001b[0m\u001b[0m\n\u001b[0m\u001b[1;32m    212\u001b[0m     \u001b[0mcheck_consistent_length\u001b[0m\u001b[0;34m(\u001b[0m\u001b[0my_true\u001b[0m\u001b[0;34m,\u001b[0m \u001b[0my_pred\u001b[0m\u001b[0;34m,\u001b[0m \u001b[0msample_weight\u001b[0m\u001b[0;34m)\u001b[0m\u001b[0;34m\u001b[0m\u001b[0;34m\u001b[0m\u001b[0m\n\u001b[1;32m    213\u001b[0m     \u001b[0;32mif\u001b[0m \u001b[0my_type\u001b[0m\u001b[0;34m.\u001b[0m\u001b[0mstartswith\u001b[0m\u001b[0;34m(\u001b[0m\u001b[0;34m\"multilabel\"\u001b[0m\u001b[0;34m)\u001b[0m\u001b[0;34m:\u001b[0m\u001b[0;34m\u001b[0m\u001b[0;34m\u001b[0m\u001b[0m\n",
            "\u001b[0;32m/usr/local/lib/python3.7/dist-packages/sklearn/metrics/_classification.py\u001b[0m in \u001b[0;36m_check_targets\u001b[0;34m(y_true, y_pred)\u001b[0m\n\u001b[1;32m     82\u001b[0m     \u001b[0my_pred\u001b[0m \u001b[0;34m:\u001b[0m \u001b[0marray\u001b[0m \u001b[0;32mor\u001b[0m \u001b[0mindicator\u001b[0m \u001b[0mmatrix\u001b[0m\u001b[0;34m\u001b[0m\u001b[0;34m\u001b[0m\u001b[0m\n\u001b[1;32m     83\u001b[0m     \"\"\"\n\u001b[0;32m---> 84\u001b[0;31m     \u001b[0mcheck_consistent_length\u001b[0m\u001b[0;34m(\u001b[0m\u001b[0my_true\u001b[0m\u001b[0;34m,\u001b[0m \u001b[0my_pred\u001b[0m\u001b[0;34m)\u001b[0m\u001b[0;34m\u001b[0m\u001b[0;34m\u001b[0m\u001b[0m\n\u001b[0m\u001b[1;32m     85\u001b[0m     \u001b[0mtype_true\u001b[0m \u001b[0;34m=\u001b[0m \u001b[0mtype_of_target\u001b[0m\u001b[0;34m(\u001b[0m\u001b[0my_true\u001b[0m\u001b[0;34m)\u001b[0m\u001b[0;34m\u001b[0m\u001b[0;34m\u001b[0m\u001b[0m\n\u001b[1;32m     86\u001b[0m     \u001b[0mtype_pred\u001b[0m \u001b[0;34m=\u001b[0m \u001b[0mtype_of_target\u001b[0m\u001b[0;34m(\u001b[0m\u001b[0my_pred\u001b[0m\u001b[0;34m)\u001b[0m\u001b[0;34m\u001b[0m\u001b[0;34m\u001b[0m\u001b[0m\n",
            "\u001b[0;32m/usr/local/lib/python3.7/dist-packages/sklearn/utils/validation.py\u001b[0m in \u001b[0;36mcheck_consistent_length\u001b[0;34m(*arrays)\u001b[0m\n\u001b[1;32m    332\u001b[0m         raise ValueError(\n\u001b[1;32m    333\u001b[0m             \u001b[0;34m\"Found input variables with inconsistent numbers of samples: %r\"\u001b[0m\u001b[0;34m\u001b[0m\u001b[0;34m\u001b[0m\u001b[0m\n\u001b[0;32m--> 334\u001b[0;31m             \u001b[0;34m%\u001b[0m \u001b[0;34m[\u001b[0m\u001b[0mint\u001b[0m\u001b[0;34m(\u001b[0m\u001b[0ml\u001b[0m\u001b[0;34m)\u001b[0m \u001b[0;32mfor\u001b[0m \u001b[0ml\u001b[0m \u001b[0;32min\u001b[0m \u001b[0mlengths\u001b[0m\u001b[0;34m]\u001b[0m\u001b[0;34m\u001b[0m\u001b[0;34m\u001b[0m\u001b[0m\n\u001b[0m\u001b[1;32m    335\u001b[0m         )\n\u001b[1;32m    336\u001b[0m \u001b[0;34m\u001b[0m\u001b[0m\n",
            "\u001b[0;31mValueError\u001b[0m: Found input variables with inconsistent numbers of samples: [604, 720]"
          ]
        }
      ]
    },
    {
      "cell_type": "code",
      "source": [
        "print(X_test)"
      ],
      "metadata": {
        "id": "_I6hVVBMKzpy",
        "colab": {
          "base_uri": "https://localhost:8080/"
        },
        "outputId": "6c94717e-4a5b-4960-e927-a2de18ffbd9a"
      },
      "execution_count": null,
      "outputs": [
        {
          "output_type": "stream",
          "name": "stdout",
          "text": [
            "            ph    Hardness        Solids  Chloramines     Sulfate  \\\n",
            "2218  5.574756  189.700665  11512.465840     8.720972  329.939631   \n",
            "1709  8.040188  201.809216  11861.550850     7.200310  300.398435   \n",
            "2378  5.800034  181.453515  13028.688460     6.106765  374.357784   \n",
            "1722  7.566517  205.396582  30823.730490     7.816636  354.175972   \n",
            "175   4.430281  139.685759  28862.257170     8.961372  298.379458   \n",
            "...        ...         ...           ...          ...         ...   \n",
            "2246  5.573201  229.174986  15613.160530     4.157902  383.481116   \n",
            "2851  8.164000  195.212495  27414.899120     5.412481  231.724225   \n",
            "395   7.146976  196.562685  16911.203770     6.890505  320.100875   \n",
            "292   8.291299  211.217034  20008.134960     8.767875  275.767321   \n",
            "2581  6.363836  207.422436   9844.702293     9.765921  320.630725   \n",
            "\n",
            "      Conductivity  Organic_carbon  Trihalomethanes  Turbidity  \n",
            "2218    331.330353       18.016991        66.188642   4.371806  \n",
            "1709    420.549218        7.168607        90.761776   3.221139  \n",
            "2378    405.517220       15.773825        35.338133   4.074408  \n",
            "1722    395.297276       12.095251        63.767702   3.275142  \n",
            "175     434.781267       17.299294        63.042501   4.384565  \n",
            "...            ...             ...              ...        ...  \n",
            "2246    409.066577       10.751904        63.758516   3.599625  \n",
            "2851    529.681807       12.425426        69.990128   3.673088  \n",
            "395     520.111358       12.854239        66.814176   4.025762  \n",
            "292     475.909130       12.614669        66.612984   3.424702  \n",
            "2581    466.592543       19.156261        58.265305   4.038984  \n",
            "\n",
            "[604 rows x 9 columns]\n"
          ]
        }
      ]
    },
    {
      "cell_type": "code",
      "source": [
        "print(Y_pred3)"
      ],
      "metadata": {
        "colab": {
          "base_uri": "https://localhost:8080/"
        },
        "id": "u3IXjv-Gk2VE",
        "outputId": "36cf4039-a433-41c8-dc6a-84df929ad6ff"
      },
      "execution_count": null,
      "outputs": [
        {
          "output_type": "stream",
          "name": "stdout",
          "text": [
            "[0 1 1 0 1 1 1 0 0 1 0 1 0 0 1 0 1 0 1 0 0 0 1 1 0 0 0 1 1 1 0 1 0 1 0 0 1\n",
            " 1 1 1 1 0 1 1 0 0 0 1 1 0 1 1 0 0 1 1 1 1 1 1 0 1 1 1 1 1 1 1 1 0 0 0 1 0\n",
            " 1 1 0 1 0 0 0 1 0 0 1 1 0 1 0 0 1 0 1 0 0 0 1 0 0 1 1 0 0 0 0 1 1 0 1 0 0\n",
            " 0 1 1 0 1 0 1 0 0 1 0 0 1 0 1 0 1 0 0 1 1 0 0 1 0 1 0 0 0 1 1 1 0 0 0 0 0\n",
            " 1 1 1 0 0 0 0 1 0 1 1 1 0 0 0 1 0 1 1 0 1 1 1 0 0 1 1 1 0 0 0 1 1 0 1 1 1\n",
            " 1 0 1 0 1 0 0 0 1 0 1 0 1 1 1 0 1 1 1 0 0 0 0 1 1 1 1 1 0 1 1 1 1 1 1 1 0\n",
            " 0 1 0 0 1 1 1 1 1 0 1 0 1 0 1 0 0 1 1 1 1 1 0 0 1 1 0 1 0 1 0 1 1 0 0 0 0\n",
            " 1 1 0 0 1 1 0 0 0 0 0 0 0 1 1 0 0 0 1 0 0 0 1 1 0 1 0 0 0 0 0 0 1 0 1 0 0\n",
            " 0 1 1 1 1 1 0 0 0 1 0 1 0 0 1 0 1 0 0 1 0 0 0 0 0 0 1 0 0 1 1 1 0 0 0 0 1\n",
            " 0 1 0 0 1 1 0 1 0 0 1 0 0 0 1 1 1 0 0 0 1 0 0 0 0 1 1 0 1 0 0 1 0 1 0 1 1\n",
            " 0 0 1 1 0 1 0 0 0 0 1 1 1 0 0 1 1 0 1 1 0 1 0 0 1 0 1 1 1 0 0 0 1 1 1 1 0\n",
            " 0 0 1 0 1 1 1 0 0 1 1 1 0 0 1 1 0 1 0 0 0 0 1 1 0 1 1 0 1 0 0 0 0 0 0 1 1\n",
            " 0 1 1 0 0 0 1 1 1 0 1 1 1 0 0 1 1 1 0 1 1 1 1 1 1 1 1 1 1 0 1 0 1 0 0 0 0\n",
            " 0 0 0 0 1 1 1 1 1 1 1 0 1 0 0 1 1 1 0 0 0 1 0 1 1 1 1 0 0 0 1 0 1 0 1 0 0\n",
            " 0 1 1 1 0 0 0 0 1 0 1 0 0 0 0 1 1 1 1 1 0 1 0 1 1 1 0 0 0 1 0 0 0 0 1 0 1\n",
            " 1 0 0 0 1 1 1 1 1 0 1 1 1 0 1 1 0 1 1 1 1 0 0 1 0 1 0 0 0 0 1 0 1 0 1 1 0\n",
            " 0 1 0 1 0 0 0 0 1 1 1 1 0 1 1 0 1 0 0 0 0 1 1 1 1 0 0 0 1 0 0 0 0 1 0 1 0\n",
            " 0 0 0 1 0 1 0 1 0 1 0 1 0 0 1 1 0 1 1 1 0 1 0 1 0 0 0 1 1 1 0 0 0 1 1 0 0\n",
            " 1 1 1 1 1 0 1 0 0 1 1 1 0 0 1 0 1 1 0 1 1 0 1 0 1 1 0 1 1 1 1 1 0 1 1 1 0\n",
            " 0 1 1 1 0 0 0 0 0 0 0 1 0 0 0 1 0]\n"
          ]
        }
      ]
    }
  ]
}